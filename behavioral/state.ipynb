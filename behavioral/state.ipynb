{
 "cells": [
  {
   "cell_type": "markdown",
   "metadata": {},
   "source": [
    "状态模式——处理对象的多种状态及其相互转换\n",
    "\n",
    "**[参考链接]**\n",
    "- http://blog.csdn.net/lovelion/article/details/17517213 中状态模式部分\n",
    "\n",
    "**状态模式(State Pattern): **允许一个对象在其内部状态改变时改变它的行为, 对象看起来似乎修改了它的类, 其别名为状态对象(Objects for States). 状态模式用于解决系统中复杂对象的状态转换以及不同状态下行为的封装问题.\n",
    "\n",
    "**包含角色:**\n",
    "- Context(环境类): 环境类又称为上下文类，它是拥有多种状态的对象\n",
    "- State(抽象状态类): 它用于定义一个接口以封装与环境类的一个特定状态相关的行为\n",
    "- ConcreteState(具体状态类): 实现一个与环境类的一个具体状态相关的行为\n",
    "\n",
    "**状态转换:**\n",
    "- 统一由环境类负责状态的转换\n",
    "- 由具体状态类来负责状态的转换"
   ]
  },
  {
   "cell_type": "markdown",
   "metadata": {},
   "source": [
    "## 银行账户的不同状态实现"
   ]
  },
  {
   "cell_type": "code",
   "execution_count": 37,
   "metadata": {},
   "outputs": [],
   "source": [
    "# 环境类\n",
    "class Account(object):\n",
    "    def __init__(self, owner, balance=0):\n",
    "        self.owner = owner\n",
    "        self._balance = balance\n",
    "        self.state = self._init_state()\n",
    "        print '%s 开户, 初始金额 %s' % (owner, balance)\n",
    "\n",
    "    def _init_state(self):\n",
    "        return NormalState(self)\n",
    "\n",
    "    @property\n",
    "    def balance(self):\n",
    "        return self._balance\n",
    "\n",
    "    @balance.setter\n",
    "    def balance(self, amount):\n",
    "        self._balance = amount\n",
    "        self._update_state()\n",
    "\n",
    "    def _update_state(self):\n",
    "        if self._balance >= 0:\n",
    "            self.state = NormalState(self)\n",
    "        elif -2000 <= self._balance < 0:\n",
    "            self.state = OverdraftState(self)\n",
    "        elif self._balance < -2000:\n",
    "            self.state = RestrictState(self)\n",
    "\n",
    "    def deposit(self, amount):\n",
    "        print self.owner, '存款', amount\n",
    "        print '-' * 20\n",
    "        self.state.deposit(amount)\n",
    "\n",
    "    def withdraw(self, amount):\n",
    "        print self.owner, '取款', amount\n",
    "        print '-' * 20\n",
    "        self.state.withdraw(amount)\n",
    "\n",
    "    def compute_interest(self):\n",
    "        self.state.compute_interest()\n",
    "\n",
    "\n",
    "# 抽象状态类\n",
    "class State(object):\n",
    "    def __init__(self, acc):\n",
    "        self.acc = acc\n",
    "\n",
    "    def __repr__(self):\n",
    "        return '%s' % self.__class__.__name__\n",
    "\n",
    "    __str__ = __repr__\n",
    "\n",
    "    def deposit(self, amount):\n",
    "        self.acc.balance += amount\n",
    "        print '存款: ', amount\n",
    "        print '账户金额: ', self.acc.balance\n",
    "        print '当前状态: %s' % self.acc.state\n",
    "\n",
    "    def withdraw(self, amount):\n",
    "        self.acc.balance -= amount\n",
    "        print '取款: ', amount, '成功'\n",
    "        print '账户金额: ', self.acc.balance\n",
    "        print '当前状态: %s' % self.acc.state\n",
    "\n",
    "    def compute_interest(self):\n",
    "        raise NotImplementedError\n",
    "\n",
    "\n",
    "# 正常状态\n",
    "class NormalState(State):\n",
    "    def compute_interest(self):\n",
    "        print '账户状态正常 无需计息'\n",
    "\n",
    "\n",
    "# 透支状态\n",
    "class OverdraftState(State):\n",
    "    def withdraw(self, amount):\n",
    "        print '取款: ', amount,\n",
    "        if amount >= 5000:\n",
    "            print '额度不足, 无法取款'\n",
    "        else:\n",
    "            self.acc.balance -= amount\n",
    "            print '成功'\n",
    "\n",
    "        print '账户金额: ', self.acc.balance\n",
    "        print '当前状态: %s' % self.acc.state\n",
    "\n",
    "    def compute_interest(self):\n",
    "        print '计息中, 吓死你'\n",
    "\n",
    "\n",
    "# 受限状态\n",
    "class RestrictState(State):\n",
    "    def withdraw(self, amount):\n",
    "        print '额度不足, 无法取款'\n",
    "        print '账户金额: ', self.acc.balance\n",
    "        print '当前状态: %s' % self.acc.state\n",
    "\n",
    "    def compute_interest(self):\n",
    "        print '计息中, 赶快还钱'"
   ]
  },
  {
   "cell_type": "code",
   "execution_count": 40,
   "metadata": {
    "collapsed": false
   },
   "outputs": [
    {
     "name": "stdout",
     "output_type": "stream",
     "text": [
      "令狐冲 开户, 初始金额 1000\n"
     ]
    }
   ],
   "source": [
    "acc = Account('令狐冲', 1000)"
   ]
  },
  {
   "cell_type": "code",
   "execution_count": 41,
   "metadata": {},
   "outputs": [
    {
     "name": "stdout",
     "output_type": "stream",
     "text": [
      "令狐冲 存款 1000\n--------------------\n存款:  1000\n账户金额:  2000\n当前状态: NormalState\n"
     ]
    }
   ],
   "source": [
    "acc.deposit(1000)"
   ]
  },
  {
   "cell_type": "code",
   "execution_count": 42,
   "metadata": {},
   "outputs": [
    {
     "name": "stdout",
     "output_type": "stream",
     "text": [
      "令狐冲 取款 3000\n--------------------\n取款:  3000 成功\n账户金额:  -1000\n当前状态: OverdraftState\n"
     ]
    }
   ],
   "source": [
    "acc.withdraw(3000)"
   ]
  },
  {
   "cell_type": "code",
   "execution_count": 44,
   "metadata": {},
   "outputs": [
    {
     "name": "stdout",
     "output_type": "stream",
     "text": [
      "计息中, 吓死你\n"
     ]
    }
   ],
   "source": [
    "acc.compute_interest()"
   ]
  },
  {
   "cell_type": "code",
   "execution_count": 45,
   "metadata": {},
   "outputs": [
    {
     "name": "stdout",
     "output_type": "stream",
     "text": [
      "令狐冲 取款 5000\n--------------------\n取款:  5000 额度不足, 无法取款\n账户金额:  -1000\n当前状态: OverdraftState\n"
     ]
    }
   ],
   "source": [
    "acc.withdraw(5000)"
   ]
  },
  {
   "cell_type": "code",
   "execution_count": 46,
   "metadata": {},
   "outputs": [
    {
     "name": "stdout",
     "output_type": "stream",
     "text": [
      "令狐冲 取款 2000\n--------------------\n取款:  2000 成功\n账户金额:  -3000\n当前状态: RestrictState\n"
     ]
    }
   ],
   "source": [
    "acc.withdraw(2000)"
   ]
  },
  {
   "cell_type": "code",
   "execution_count": 47,
   "metadata": {},
   "outputs": [
    {
     "name": "stdout",
     "output_type": "stream",
     "text": [
      "令狐冲 取款 100\n--------------------\n额度不足, 无法取款\n账户金额:  -3000\n当前状态: RestrictState\n"
     ]
    }
   ],
   "source": [
    "acc.withdraw(100)"
   ]
  },
  {
   "cell_type": "code",
   "execution_count": 48,
   "metadata": {},
   "outputs": [
    {
     "name": "stdout",
     "output_type": "stream",
     "text": [
      "令狐冲 存款 3000\n--------------------\n存款:  3000\n账户金额:  0\n当前状态: NormalState\n"
     ]
    }
   ],
   "source": [
    "acc.deposit(3000)"
   ]
  }
 ],
 "metadata": {},
 "nbformat": 4,
 "nbformat_minor": 0
}