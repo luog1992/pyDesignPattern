{
 "cells": [
  {
   "cell_type": "markdown",
   "metadata": {},
   "source": [
    "# 命令模式\n",
    "\n",
    "命令模式(Command Pattern): 将一个请求封装为一个对象，从而让我们可用不同的请求对客户进行参数化；对请求排队或者记录请求日志，以及支持可撤销的操作。其别名为动作(Action)模式或事务(Transaction)模式\n",
    "\n",
    "命令模式的核心在于引入了命令类，通过命令类来降低发送者和接收者的耦合度, 发送者与接收者之间没有直接引用关系，发送请求的对象只需要知道如何发送请求，而不必知道如何完成请求;\n",
    "命令模式的本质是对请求进行封装，一个请求对应于一个命令，将发出命令的责任和执行命令的责任分割开;\n",
    "一个请求发送者可以对应多个命令对象, 从而可以实现**命令队列**;\n",
    "\n",
    "**宏命令:**\n",
    "\n",
    "宏命令(Macro Command)又称为组合命令，它是组合模式和命令模式联用的产物。宏命令是一个具体命令类，它拥有一个集合属性，在该集合中包含了对其他命令对象的引用。通常宏命令不直接与请求接收者交互，而是通过它的成员来调用接收者的方法。当调用宏命令的`execute()`方法时，将递归调用它所包含的每个成员命令的`execute()`方法，一个宏命令的成员可以是简单命令，还可以继续是宏命令。执行一个宏命令将触发多个具体命令的执行，从而实现对命令的批处理.\n",
    "\n",
    "包含角色:\n",
    "- Command: 一般是抽象类, 声明执行请求的`execute()`等方法\n",
    "- ConcreteCommand: 对应具体的接受者, 在`execute()`中调用接受者相关操作\n",
    "- Invoker: 请求发送者, 通过命令对象执行请求\n",
    "- Receiver: 接受者执行请求相关操作\n",
    "\n",
    "结构图:\n",
    "\n",
    "![](https://github.com/luog1992/fs/blob/master/2017110201.png?raw=true)"
   ]
  },
  {
   "cell_type": "markdown",
   "metadata": {},
   "source": [
    "## 示例"
   ]
  },
  {
   "cell_type": "code",
   "execution_count": 11,
   "metadata": {},
   "outputs": [],
   "source": [
    "# invoker\n",
    "class Button(object):\n",
    "    def __init__(self, name, command=None):\n",
    "        self.name = name\n",
    "        self.command = command\n",
    "\n",
    "    def on_click(self):\n",
    "        self.command.execute()\n",
    "\n",
    "\n",
    "# abstract command\n",
    "class Command(object):\n",
    "    def __init__(self, name, receive=None):\n",
    "        self.name = name\n",
    "        self.receive = receive\n",
    "\n",
    "    def execute(self):\n",
    "        raise NotImplementedError\n",
    "\n",
    "\n",
    "# concrete command 1 without a receiver\n",
    "class CloseWindow(Command):\n",
    "    def execute(self):\n",
    "        print 'Closing window'\n",
    "\n",
    "\n",
    "# concrete command 2 with a receive\n",
    "class ImageZoomIn(Command):\n",
    "    def execute(self):\n",
    "        print 'Zoom in the image...'\n",
    "        self.receive.zoom_in()\n",
    "\n",
    "\n",
    "# a receive\n",
    "class Image(object):\n",
    "    def zoom_in(self, percent=75):\n",
    "        print 'Image zoom in to %s%%' % percent"
   ]
  },
  {
   "cell_type": "code",
   "execution_count": 5,
   "metadata": {},
   "outputs": [
    {
     "name": "stdout",
     "output_type": "stream",
     "text": [
      "Closing window\n"
     ]
    }
   ],
   "source": [
    "close_btn = Button('close_btn', CloseWindow('close_cmd'))\n",
    "close_btn.on_click()"
   ]
  },
  {
   "cell_type": "code",
   "execution_count": 10,
   "metadata": {},
   "outputs": [
    {
     "name": "stdout",
     "output_type": "stream",
     "text": [
      "Zoom in the image...\nImage zoom in to 75%\n"
     ]
    }
   ],
   "source": [
    "zoomin_btn = Button('zoomin_btn', ImageZoomIn('img_zoomin_cmd', Image()))\n",
    "zoomin_btn.on_click()"
   ]
  },
  {
   "cell_type": "markdown",
   "metadata": {},
   "source": [
    "## 通过命令模式实现撤销操作"
   ]
  },
  {
   "cell_type": "code",
   "execution_count": 17,
   "metadata": {},
   "outputs": [],
   "source": [
    "# receive\n",
    "class Adder(object):\n",
    "    def __init__(self):\n",
    "        self.n = 0\n",
    "\n",
    "    def add(self, val):\n",
    "        self.n += val\n",
    "        return self.n\n",
    "\n",
    "\n",
    "# abstract command\n",
    "class Command(object):\n",
    "    def execute(self, val):\n",
    "        raise NotImplementedError\n",
    "\n",
    "    def undo(self):\n",
    "        raise NotImplementedError\n",
    "\n",
    "\n",
    "# concrete add command\n",
    "class AddCommand(Command):\n",
    "    def __init__(self, adder):\n",
    "        self.adder = adder\n",
    "        self._histories = []\n",
    "\n",
    "    def execute(self, val):\n",
    "        self._histories.append(val)\n",
    "        return self.adder.add(val)\n",
    "\n",
    "    def undo(self):\n",
    "        if not self._histories:\n",
    "            raise ValueError('No more undo steps')\n",
    "        return self.adder.add(-self._histories.pop())\n",
    "\n",
    "\n",
    "# invoker\n",
    "class Calculator(object):\n",
    "    def __init__(self, add_command):\n",
    "        self._add_command = add_command\n",
    "\n",
    "    def compute(self, val):\n",
    "        r = self._add_command.execute(val)\n",
    "        print '调用:', val, r\n",
    "\n",
    "    def undo(self):\n",
    "        r = self._add_command.undo()\n",
    "        print '撤销:', r"
   ]
  },
  {
   "cell_type": "code",
   "execution_count": 19,
   "metadata": {},
   "outputs": [
    {
     "name": "stdout",
     "output_type": "stream",
     "text": [
      "调用: 10 10\n调用: 12 22\n撤销: 10\n调用: 5 15\n撤销: 10\n撤销: 0\n"
     ]
    }
   ],
   "source": [
    "adder = Adder()\n",
    "command = AddCommand(adder)\n",
    "c = Calculator(command)\n",
    "\n",
    "c.compute(10)\n",
    "c.compute(12)\n",
    "c.undo()\n",
    "c.compute(5)\n",
    "c.undo()\n",
    "c.undo()"
   ]
  },
  {
   "cell_type": "code",
   "execution_count": 20,
   "metadata": {},
   "outputs": [
    {
     "ename": "ValueError",
     "evalue": "No more undo steps",
     "traceback": [
      "\u001b[0;31m\u001b[0m",
      "\u001b[0;31mValueError\u001b[0mTraceback (most recent call last)",
      "\u001b[0;32m<ipython-input-20-5031d475b315>\u001b[0m in \u001b[0;36m<module>\u001b[0;34m()\u001b[0m\n\u001b[0;32m----> 1\u001b[0;31m \u001b[0mc\u001b[0m\u001b[0;34m.\u001b[0m\u001b[0mundo\u001b[0m\u001b[0;34m(\u001b[0m\u001b[0;34m)\u001b[0m\u001b[0;34m\u001b[0m\u001b[0m\n\u001b[0m",
      "\u001b[0;32m<ipython-input-17-be3712dec57d>\u001b[0m in \u001b[0;36mundo\u001b[0;34m(self)\u001b[0m\n\u001b[1;32m     44\u001b[0m \u001b[0;34m\u001b[0m\u001b[0m\n\u001b[1;32m     45\u001b[0m     \u001b[0;32mdef\u001b[0m \u001b[0mundo\u001b[0m\u001b[0;34m(\u001b[0m\u001b[0mself\u001b[0m\u001b[0;34m)\u001b[0m\u001b[0;34m:\u001b[0m\u001b[0;34m\u001b[0m\u001b[0m\n\u001b[0;32m---> 46\u001b[0;31m         \u001b[0mr\u001b[0m \u001b[0;34m=\u001b[0m \u001b[0mself\u001b[0m\u001b[0;34m.\u001b[0m\u001b[0m_add_command\u001b[0m\u001b[0;34m.\u001b[0m\u001b[0mundo\u001b[0m\u001b[0;34m(\u001b[0m\u001b[0;34m)\u001b[0m\u001b[0;34m\u001b[0m\u001b[0m\n\u001b[0m\u001b[1;32m     47\u001b[0m         \u001b[0;32mprint\u001b[0m \u001b[0;34m'撤销:'\u001b[0m\u001b[0;34m,\u001b[0m \u001b[0mr\u001b[0m\u001b[0;34m\u001b[0m\u001b[0m\n",
      "\u001b[0;32m<ipython-input-17-be3712dec57d>\u001b[0m in \u001b[0;36mundo\u001b[0;34m(self)\u001b[0m\n\u001b[1;32m     30\u001b[0m     \u001b[0;32mdef\u001b[0m \u001b[0mundo\u001b[0m\u001b[0;34m(\u001b[0m\u001b[0mself\u001b[0m\u001b[0;34m)\u001b[0m\u001b[0;34m:\u001b[0m\u001b[0;34m\u001b[0m\u001b[0m\n\u001b[1;32m     31\u001b[0m         \u001b[0;32mif\u001b[0m \u001b[0;32mnot\u001b[0m \u001b[0mself\u001b[0m\u001b[0;34m.\u001b[0m\u001b[0m_histories\u001b[0m\u001b[0;34m:\u001b[0m\u001b[0;34m\u001b[0m\u001b[0m\n\u001b[0;32m---> 32\u001b[0;31m             \u001b[0;32mraise\u001b[0m \u001b[0mValueError\u001b[0m\u001b[0;34m(\u001b[0m\u001b[0;34m'No more undo steps'\u001b[0m\u001b[0;34m)\u001b[0m\u001b[0;34m\u001b[0m\u001b[0m\n\u001b[0m\u001b[1;32m     33\u001b[0m         \u001b[0;32mreturn\u001b[0m \u001b[0mself\u001b[0m\u001b[0;34m.\u001b[0m\u001b[0madder\u001b[0m\u001b[0;34m.\u001b[0m\u001b[0madd\u001b[0m\u001b[0;34m(\u001b[0m\u001b[0;34m-\u001b[0m\u001b[0mself\u001b[0m\u001b[0;34m.\u001b[0m\u001b[0m_histories\u001b[0m\u001b[0;34m.\u001b[0m\u001b[0mpop\u001b[0m\u001b[0;34m(\u001b[0m\u001b[0;34m)\u001b[0m\u001b[0;34m)\u001b[0m\u001b[0;34m\u001b[0m\u001b[0m\n\u001b[1;32m     34\u001b[0m \u001b[0;34m\u001b[0m\u001b[0m\n",
      "\u001b[0;31mValueError\u001b[0m: No more undo steps"
     ],
     "output_type": "error"
    }
   ],
   "source": [
    "c.undo()"
   ]
  }
 ],
 "metadata": {},
 "nbformat": 4,
 "nbformat_minor": 0
}