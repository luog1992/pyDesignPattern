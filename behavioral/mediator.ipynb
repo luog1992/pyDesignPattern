{
 "cells": [
  {
   "cell_type": "markdown",
   "metadata": {
    "collapsed": true
   },
   "source": [
    "# 中介者模式\n",
    "\n",
    "**定义:**\n",
    "\n",
    "中介者模式(Mediator Pattern): 用一个中介对象（中介者）来封装一系列的对象交互，中介者使各对象不需要显式地相互引用，从而使其耦合松散, 中介者还可以独立地改变它们之间的交互\n",
    "\n",
    "中介者的职责;\n",
    "- 中转作用(结构性): 解耦对象之间的交互\n",
    "- 协调作用(行为性): 封装同事之间的关系, 根据自身内部的协调逻辑, 对同事的请求进行进一步处理\n",
    "\n",
    "**NOTE:**\n",
    "- 自身方法(Self-Method) vs 依赖方法(Depend-Method)\n",
    "\n",
    "在中介者模式的实际使用过程中，如果需要引入新的具体同事类，只需要继承抽象同事类并实现其中的方法即可，由于具体同事类之间并无直接的引用关系，因此原有所有同事类无须进行任何修改，它们与新增同事对象之间的交互可以通过修改或者增加具体中介者类来实现；如果需要在原有系统中增加新的具体中介者类，只需要继承抽象中介者类（或已有的具体中介者类）并覆盖其中定义的方法即可，在新的具体中介者中可以通过不同的方式来处理对象之间的交互，也可以增加对新增同事的引用和调用\n"
   ]
  },
  {
   "cell_type": "code",
   "execution_count": 6,
   "metadata": {},
   "outputs": [],
   "source": [
    "class Restaurant(object):\n",
    "    def __init__(self, server=None, cook=None, cashier=None):\n",
    "        self.server = None\n",
    "        self.cook = cook\n",
    "        self.cashier = cashier\n",
    "\n",
    "    def set_server(self, server):\n",
    "        self.server = server\n",
    "        server.restaurant = self\n",
    "\n",
    "    def set_cook(self, cook):\n",
    "        self.cook = cook\n",
    "        cook.restaurant = self\n",
    "\n",
    "    def set_cashier(self, cashier):\n",
    "        self.cashier = cashier\n",
    "        cashier.restaurant = self\n",
    "\n",
    "    def serve(self, customer):\n",
    "        orders = self.server.serve(customer)\n",
    "        foods = self.cook.make_foods(orders)\n",
    "        self.server.delivery(foods, customer)\n",
    "        self.cashier.get_money(customer)\n",
    "\n",
    "    def notify_cashier(self, msg):\n",
    "        print '收银员消息:', msg\n",
    "\n",
    "    def notify_cook(self, msg):\n",
    "        print '厨师长消息:', msg\n",
    "\n",
    "    def notify_server(self, msg):\n",
    "        print '服务员消息:', msg\n",
    "\n",
    "\n",
    "class Server(object):\n",
    "    def __init__(self, restaurant=None):\n",
    "        self.restaurant = restaurant\n",
    "\n",
    "    def serve(self, customer):\n",
    "        print '正在服务:', customer\n",
    "        order = '蛋炒饭'\n",
    "        self.restaurant.notify_cashier('%s下单%s' % (customer, order))\n",
    "        return order\n",
    "\n",
    "    def delivery(self, foods, customer):\n",
    "        print '正在送餐 %s 到 %s' % (foods, customer)\n",
    "        self.restaurant.notify_cook('客户说饭很好吃')\n",
    "\n",
    "\n",
    "class Cook(object):\n",
    "    def __init__(self, restaurant=None):\n",
    "        self.restaurant = restaurant\n",
    "\n",
    "    def make_foods(self, orders):\n",
    "        print '准备食物:', orders\n",
    "        self.restaurant.notify_server('10分钟后取餐')\n",
    "        return str(orders)\n",
    "\n",
    "\n",
    "class Cashier(object):\n",
    "    def __init__(self, restaurant=None):\n",
    "        self.restaurant = restaurant\n",
    "\n",
    "    def get_money(self, customer):\n",
    "        print '结账中:', customer"
   ]
  },
  {
   "cell_type": "code",
   "execution_count": 7,
   "metadata": {},
   "outputs": [
    {
     "name": "stdout",
     "output_type": "stream",
     "text": [
      "正在服务: 李白\n收银员消息: 李白下单蛋炒饭\n准备食物: 蛋炒饭\n服务员消息: 10分钟后取餐\n正在送餐 蛋炒饭 到 李白\n厨师长消息: 客户说饭很好吃\n结账中: 李白\n"
     ]
    }
   ],
   "source": [
    "rest = Restaurant()\n",
    "server = Server()\n",
    "cook = Cook()\n",
    "cashier = Cashier()\n",
    "rest.set_cashier(cashier)\n",
    "rest.set_cook(cook)\n",
    "rest.set_server(server)\n",
    "\n",
    "rest.serve('李白')"
   ]
  }
 ],
 "metadata": {
  "kernelspec": {
   "display_name": "Python 2",
   "language": "python",
   "name": "python2"
  },
  "language_info": {
   "codemirror_mode": {
    "name": "ipython",
    "version": 2.0
   },
   "file_extension": ".py",
   "mimetype": "text/x-python",
   "name": "python",
   "nbconvert_exporter": "python",
   "pygments_lexer": "ipython2",
   "version": "2.7.6"
  }
 },
 "nbformat": 4,
 "nbformat_minor": 0
}