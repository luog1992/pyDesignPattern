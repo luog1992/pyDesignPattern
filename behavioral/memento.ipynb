{
 "cells": [
  {
   "cell_type": "markdown",
   "metadata": {
    "collapsed": true
   },
   "source": [
    "# 备忘录模式\n",
    "\n",
    "**备忘录模式(Memento Pattern):** 在不破坏封装的前提下，捕获一个对象的内部状态，并在该对象之外保存这个状态，这样可以在以后将对象恢复到原先保存的状态\n",
    "\n",
    "**NOTE:**\n",
    "- 在设计备忘录类时需要考虑其封装性，除了`Originator`类，不允许其他类来调用备忘录类`Memento`的构造函数与相关方法\n",
    "\n",
    "**角色:**\n",
    "- Originator(原发器): 普通类, 可以生成一个备忘录, 也可以从备忘录恢复状态\n",
    "- Memento(备忘录): 用于存储原发器的内部状态\n",
    "- Caretaker(负责人): 只负责保存备忘录, 但是不能/不应该修改备忘录"
   ]
  },
  {
   "cell_type": "markdown",
   "metadata": {},
   "source": [
    "## 象棋悔棋实现"
   ]
  },
  {
   "cell_type": "code",
   "execution_count": 23,
   "metadata": {},
   "outputs": [],
   "source": [
    "# 棋子\n",
    "class Chessman(object):\n",
    "    def __init__(self, label, x, y):\n",
    "        self.label = label\n",
    "        self.x = x\n",
    "        self.y = y\n",
    "\n",
    "    def display(self):\n",
    "        print '%s 位于第 %s 行 第 %s 列' % (self.label, self.y + 1, self.x + 1)\n",
    "\n",
    "    def save(self):\n",
    "        return ChessmanMemento(self.label, self.x, self.y)\n",
    "\n",
    "    def restore(self, m):\n",
    "        self.label = m.label\n",
    "        self.x = m.x\n",
    "        self.y = m.y\n",
    "\n",
    "\n",
    "# 棋子备忘录\n",
    "class ChessmanMemento():\n",
    "    def __init__(self, label, x, y):\n",
    "        self._label = label\n",
    "        self._x = x\n",
    "        self._y = y\n",
    "\n",
    "    @property\n",
    "    def label(self):\n",
    "        return self._label\n",
    "\n",
    "    @property\n",
    "    def x(self):\n",
    "        return self._x\n",
    "\n",
    "    @property\n",
    "    def y(self):\n",
    "        return self._y\n",
    "\n",
    "\n",
    "# 备忘录管理者: 负责人\n",
    "class MementoCaretaker(object):\n",
    "    def __init__(self):\n",
    "        self._mementos = []  # 记录多个历史版本\n",
    "        self._idx = len(self._mementos) - 1  # 历史版本指针\n",
    "\n",
    "    def undo(self):\n",
    "        self._idx -= 1\n",
    "        if self._idx < 0:\n",
    "            raise ValueError('No more histories')\n",
    "        return self._mementos[self._idx]\n",
    "\n",
    "    def redo(self):\n",
    "        self._idx += 1\n",
    "        if self._idx >= len(self._mementos) - 1:\n",
    "            raise ValueError('No more redos')\n",
    "        return self._mementos[self._idx]\n",
    "\n",
    "    def add(self, m):\n",
    "        if self._mementos:\n",
    "            # 删除回溯过的版本\n",
    "            self._mementos = self._mementos[:self._idx + 1]\n",
    "        self._mementos.append(m)\n",
    "        self._idx = len(self._mementos) - 1"
   ]
  },
  {
   "cell_type": "code",
   "execution_count": 33,
   "metadata": {
    "collapsed": false
   },
   "outputs": [
    {
     "name": "stdout",
     "output_type": "stream",
     "text": [
      "车 位于第 1 行 第 1 列\n车 位于第 1 行 第 2 列\n车 位于第 6 行 第 2 列\n-------undo-------\n车 位于第 1 行 第 2 列\n-------undo-------\n车 位于第 1 行 第 1 列\n-------redo-------\n车 位于第 1 行 第 2 列\n车 位于第 4 行 第 2 列\n-------undo-------\n车 位于第 1 行 第 2 列\n-------undo-------\n车 位于第 1 行 第 1 列\n"
     ]
    }
   ],
   "source": [
    "taker = MementoCaretaker()\n",
    "chessman = Chessman('车', 0, 0)\n",
    "chessman.display()\n",
    "\n",
    "taker.add(chessman.save())\n",
    "\n",
    "chessman.x += 1\n",
    "chessman.display()\n",
    "\n",
    "taker.add(chessman.save())\n",
    "\n",
    "chessman.y += 5\n",
    "chessman.display()\n",
    "\n",
    "taker.add(chessman.save())\n",
    "\n",
    "print '-------undo-------'\n",
    "chessman.restore(taker.undo())\n",
    "chessman.display()\n",
    "print '-------undo-------'\n",
    "chessman.restore(taker.undo())\n",
    "chessman.display()\n",
    "print '-------redo-------'\n",
    "chessman.restore(taker.redo())\n",
    "chessman.display()\n",
    "\n",
    "chessman.y += 3\n",
    "chessman.display()\n",
    "\n",
    "taker.add(chessman.save())\n",
    "\n",
    "print '-------undo-------'\n",
    "chessman.restore(taker.undo())\n",
    "chessman.display()\n",
    "print '-------undo-------'\n",
    "chessman.restore(taker.undo())\n",
    "chessman.display()"
   ]
  },
  {
   "cell_type": "code",
   "execution_count": 34,
   "metadata": {},
   "outputs": [
    {
     "ename": "ValueError",
     "evalue": "No more histories",
     "traceback": [
      "\u001b[0;31m\u001b[0m",
      "\u001b[0;31mValueError\u001b[0mTraceback (most recent call last)",
      "\u001b[0;32m<ipython-input-34-25fb43f1fc10>\u001b[0m in \u001b[0;36m<module>\u001b[0;34m()\u001b[0m\n\u001b[0;32m----> 1\u001b[0;31m \u001b[0mchessman\u001b[0m\u001b[0;34m.\u001b[0m\u001b[0mrestore\u001b[0m\u001b[0;34m(\u001b[0m\u001b[0mtaker\u001b[0m\u001b[0;34m.\u001b[0m\u001b[0mundo\u001b[0m\u001b[0;34m(\u001b[0m\u001b[0;34m)\u001b[0m\u001b[0;34m)\u001b[0m\u001b[0;34m\u001b[0m\u001b[0m\n\u001b[0m",
      "\u001b[0;32m<ipython-input-23-98318e78820f>\u001b[0m in \u001b[0;36mundo\u001b[0;34m(self)\u001b[0m\n\u001b[1;32m     47\u001b[0m         \u001b[0mself\u001b[0m\u001b[0;34m.\u001b[0m\u001b[0m_idx\u001b[0m \u001b[0;34m-=\u001b[0m \u001b[0;36m1\u001b[0m\u001b[0;34m\u001b[0m\u001b[0m\n\u001b[1;32m     48\u001b[0m         \u001b[0;32mif\u001b[0m \u001b[0mself\u001b[0m\u001b[0;34m.\u001b[0m\u001b[0m_idx\u001b[0m \u001b[0;34m<\u001b[0m \u001b[0;36m0\u001b[0m\u001b[0;34m:\u001b[0m\u001b[0;34m\u001b[0m\u001b[0m\n\u001b[0;32m---> 49\u001b[0;31m             \u001b[0;32mraise\u001b[0m \u001b[0mValueError\u001b[0m\u001b[0;34m(\u001b[0m\u001b[0;34m'No more histories'\u001b[0m\u001b[0;34m)\u001b[0m\u001b[0;34m\u001b[0m\u001b[0m\n\u001b[0m\u001b[1;32m     50\u001b[0m         \u001b[0;32mreturn\u001b[0m \u001b[0mself\u001b[0m\u001b[0;34m.\u001b[0m\u001b[0m_mementos\u001b[0m\u001b[0;34m[\u001b[0m\u001b[0mself\u001b[0m\u001b[0;34m.\u001b[0m\u001b[0m_idx\u001b[0m\u001b[0;34m]\u001b[0m\u001b[0;34m\u001b[0m\u001b[0m\n\u001b[1;32m     51\u001b[0m \u001b[0;34m\u001b[0m\u001b[0m\n",
      "\u001b[0;31mValueError\u001b[0m: No more histories"
     ],
     "output_type": "error"
    }
   ],
   "source": [
    "chessman.restore(taker.undo())"
   ]
  }
 ],
 "metadata": {
  "kernelspec": {
   "display_name": "Python 2",
   "language": "python",
   "name": "python2"
  },
  "language_info": {
   "codemirror_mode": {
    "name": "ipython",
    "version": 2.0
   },
   "file_extension": ".py",
   "mimetype": "text/x-python",
   "name": "python",
   "nbconvert_exporter": "python",
   "pygments_lexer": "ipython2",
   "version": "2.7.6"
  }
 },
 "nbformat": 4,
 "nbformat_minor": 0
}