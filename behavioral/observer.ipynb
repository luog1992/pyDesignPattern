{
 "cells": [
  {
   "cell_type": "markdown",
   "metadata": {},
   "source": [
    "# 观察者模式——对象之间的联动\n",
    "\n",
    "**[参考链接]**\n",
    "- http://blog.csdn.net/lovelion/article/details/17517213 中观察者模式部分\n",
    "\n",
    "**观察者模式(Observer Pattern): **定义对象之间的一种一对多依赖关系，使得每当一个对象状态发生改变时，其相关依赖对象皆得到通知并被自动更新。观察者模式的别名包括发布-订阅（Publish/Subscribe）模式、模型-视图（Model/View）模式、源-监听器（Source/Listener）模式或从属者（Dependents）模式。\n",
    "\n",
    "**包含角色:**\n",
    "- Subject(目标)\n",
    "- ConcreteSubject(具体目标)\n",
    "- Observer(观察者)\n",
    "- ConcreteObserver(具体观察者)\n",
    "\n"
   ]
  },
  {
   "cell_type": "markdown",
   "metadata": {},
   "source": [
    "## 多人联机对战游戏Demo"
   ]
  },
  {
   "cell_type": "code",
   "execution_count": 25,
   "metadata": {},
   "outputs": [],
   "source": [
    "# concrete subject\n",
    "class AllyCenter(object):\n",
    "    def __init__(self, name):\n",
    "        self.name = name\n",
    "        self._players = []\n",
    "        print '%s 战队组建成功' % self.name\n",
    "\n",
    "    def join(self, player):\n",
    "        self._players.append(player)\n",
    "        print '%s 加入了 %s' % (player.name, self.name)\n",
    "\n",
    "    def quit(self, player):\n",
    "        try:\n",
    "            self._players.remove(player)\n",
    "            print '%s 离开了 %s' % (player.name, self.name)\n",
    "        except ValueError:\n",
    "            print '发现未知人员: %s' % player.name\n",
    "\n",
    "    def notify(self, player):\n",
    "        print '%s 紧急通知! %s 正在遭受攻击!' % (self.name, player.name)\n",
    "        for p in self._players:\n",
    "            if p != player:\n",
    "                p.help()\n",
    "\n",
    "\n",
    "# abstract observer\n",
    "class PlayerBase(object):\n",
    "    def __init__(self, name):\n",
    "        self.name = name\n",
    "\n",
    "    def help(self):\n",
    "        raise NotImplementedError\n",
    "\n",
    "    def under_attack(self):\n",
    "        raise NotImplementedError\n",
    "\n",
    "\n",
    "class Player(PlayerBase):\n",
    "    def help(self):\n",
    "        print '%s 正在前往支援...' % self.name\n",
    "\n",
    "    def under_attack(self, ally_center):\n",
    "        print '%s 正遭受攻击' % self.name\n",
    "        ally_center.notify(self)"
   ]
  },
  {
   "cell_type": "code",
   "execution_count": 26,
   "metadata": {},
   "outputs": [
    {
     "name": "stdout",
     "output_type": "stream",
     "text": [
      "四人帮 战队组建成功\n杨过 加入了 四人帮\n蝙蝠侠 加入了 四人帮\n妲己 加入了 四人帮\n送悟空 加入了 四人帮\n"
     ]
    }
   ],
   "source": [
    "p1 = Player('杨过')\n",
    "p2 = Player('蝙蝠侠')\n",
    "p3 = Player('妲己')\n",
    "p4 = Player('送悟空')\n",
    "\n",
    "ally = AllyCenter('四人帮')\n",
    "ally.join(p1)\n",
    "ally.join(p2)\n",
    "ally.join(p3)\n",
    "ally.join(p4)"
   ]
  },
  {
   "cell_type": "code",
   "execution_count": 27,
   "metadata": {},
   "outputs": [
    {
     "name": "stdout",
     "output_type": "stream",
     "text": [
      "妲己 正遭受攻击\n四人帮 紧急通知! 妲己 正在遭受攻击!\n杨过 正在前往支援...\n蝙蝠侠 正在前往支援...\n送悟空 正在前往支援...\n"
     ]
    }
   ],
   "source": [
    "p3.under_attack(ally_center=ally)"
   ]
  }
 ],
 "metadata": {},
 "nbformat": 4,
 "nbformat_minor": 0
}