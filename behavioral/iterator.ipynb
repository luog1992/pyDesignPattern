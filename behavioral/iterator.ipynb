{
 "cells": [
  {
   "cell_type": "markdown",
   "metadata": {},
   "source": [
    "# 迭代器模式\n",
    "\n",
    "**[参考链接]**\n",
    "- http://blog.csdn.net/lovelion/article/details/17517213 中迭代器模式部分\n",
    "- https://github.com/davidcorne/Design-Patterns-In-Python/blob/master/Behavioural/Iterator.py\n",
    "\n",
    "**定义:**\n",
    "\n",
    "迭代器模式(Iterator Pattern)：提供一种方法来访问聚合对象，而不用暴露这个对象的内部表示，其别名为游标(Cursor)\n",
    "\n",
    "**NOTE:**\n",
    "- 通过引入迭代器可以将数据的遍历功能从聚合对象中分离出来，聚合对象只负责存储数据，而遍历数据由迭代器来完成\n",
    "\n",
    "**经典GoF中包含的角色:**\n",
    "- Iterator(抽象迭代器): 它定义了访问和遍历元素的接口\n",
    "- ConcreteIterator(具体迭代器): 对应具体聚合类\n",
    "- Aggregate(抽象聚合类): 存储和管理元素对象\n",
    "- ConcreteAggregate(具体聚合类)\n"
   ]
  },
  {
   "cell_type": "code",
   "execution_count": 4,
   "metadata": {},
   "outputs": [],
   "source": [
    "class ReverseIterator(object):\n",
    "    def __init__(self, objs):\n",
    "        self.objs = objs\n",
    "        self._idx = len(objs)\n",
    "\n",
    "    def __iter__(self):\n",
    "        return self\n",
    "\n",
    "    def next(self):\n",
    "        if not self._idx:\n",
    "            raise StopIteration\n",
    "        self._idx -= 1\n",
    "        return self.objs[self._idx]\n",
    "\n",
    "\n",
    "class WeekDays(object):\n",
    "    days = ('Mon', 'Tue', 'Wed', 'Thu', 'Fri', 'Sat', 'Sun')\n",
    "\n",
    "    @property\n",
    "    def reverse_iter(self):\n",
    "        return ReverseIterator(self.days)"
   ]
  },
  {
   "cell_type": "code",
   "execution_count": 5,
   "metadata": {},
   "outputs": [
    {
     "name": "stdout",
     "output_type": "stream",
     "text": [
      "Sun Sat Fri Thu Wed Tue Mon\n"
     ]
    }
   ],
   "source": [
    "days = WeekDays()\n",
    "it = days.reverse_iter\n",
    "for day in it:\n",
    "    print day,"
   ]
  }
 ],
 "metadata": {},
 "nbformat": 4,
 "nbformat_minor": 0
}