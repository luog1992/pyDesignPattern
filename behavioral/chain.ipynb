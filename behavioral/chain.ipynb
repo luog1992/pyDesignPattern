{
 "cells": [
  {
   "cell_type": "markdown",
   "metadata": {},
   "source": [
    "# 职责链模式\n",
    "\n",
    "[参考链接]\n",
    "- http://blog.csdn.net/lovelion/article/details/17517213 中职责链模式部分\n",
    "- https://github.com/faif/python-patterns/blob/master/behavioral/chain.py\n",
    "\n",
    "职责链模式(Chain of Responsibility  Pattern)：避免请求发送者与接收者耦合在一起，让多个对象都有可能接收请求，将这些对象连接成一条链，并且沿着这条链传递请求，直到有对象处理它为止\n",
    "\n",
    "职责链模式包含如下角色:\n",
    "- Handler(抽象处理者): 定义处理接口; 维持一个下一家的引用\n",
    "- ConcreteHandler(具体处理者): 处理 or 转发请求\n",
    "\n",
    "注意: 职责链模式并不创建职责链，职责链的创建工作必须由系统的其他部分来完成，一般是在使用该职责链的客户端中创建职责链, 因此增加新的具体处理者类对原有类库无任何影响，符合“开闭原则”\n",
    "\n",
    "分类:\n",
    "- 纯职责链模式: 职责中必须有且仅有一个处理者来处理请求\n",
    "- 不纯职责链模式: 职责链中可以有0个或多个处理者来处理请求"
   ]
  },
  {
   "cell_type": "code",
   "execution_count": 2,
   "metadata": {},
   "outputs": [],
   "source": [
    "import abc\n",
    "\n",
    "\n",
    "class Bill(object):\n",
    "    def __init__(self, amount, approved=False):\n",
    "        self.amount = amount\n",
    "        self.approved = approved\n",
    "\n",
    "\n",
    "class Processor(object):\n",
    "    __metaclass__ = abc.ABCMeta\n",
    "\n",
    "    def __init__(self, successor=None):\n",
    "        self._successor = successor\n",
    "\n",
    "    def process(self, bill):\n",
    "        r = self._process(bill)\n",
    "        if not r:\n",
    "            self._successor.process(bill)\n",
    "\n",
    "    @abc.abstractmethod\n",
    "    def _process(self, bill):\n",
    "        raise NotImplementedError\n",
    "\n",
    "\n",
    "class Manager(Processor):\n",
    "    def _process(self, bill):\n",
    "        if 0 <= bill.amount < 10:\n",
    "            print 'Manager is process the bill amount', bill.amount\n",
    "            bill.approved = True\n",
    "            return bill\n",
    "\n",
    "\n",
    "class Director(Processor):\n",
    "    def _process(self, bill):\n",
    "        if 10 <= bill.amount < 50:\n",
    "            print 'Director is process the bill amount', bill.amount\n",
    "            bill.approved = True\n",
    "            return bill\n",
    "\n",
    "\n",
    "class Chairman(Processor):\n",
    "    def _process(self, bill):\n",
    "        if 50 <= bill.amount < 100:\n",
    "            print 'Chairman is process the bill amount', bill.amount\n",
    "            bill.approved = True\n",
    "            return bill"
   ]
  },
  {
   "cell_type": "code",
   "execution_count": 5,
   "metadata": {},
   "outputs": [
    {
     "name": "stdout",
     "output_type": "stream",
     "text": [
      "Chairman is process the bill amount 75\nManager is process the bill amount 8\nDirector is process the bill amount 34\n"
     ]
    }
   ],
   "source": [
    "class Client(object):\n",
    "    def __init__(self):\n",
    "        self.processor = Chairman(Director(Manager()))\n",
    "\n",
    "    def process(self, bills):\n",
    "        for bill in bills:\n",
    "            self.processor.process(bill)\n",
    "\n",
    "\n",
    "client = Client()\n",
    "bills = [Bill(75), Bill(8), Bill(34)]\n",
    "client.process(bills)"
   ]
  }
 ],
 "metadata": {},
 "nbformat": 4,
 "nbformat_minor": 0
}