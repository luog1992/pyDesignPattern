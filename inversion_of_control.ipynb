{
 "cells": [
  {
   "cell_type": "markdown",
   "metadata": {},
   "source": [
    "# 控制反转(Inversion of Control)\n",
    "\n",
    "- 依赖注入(Dependency Injection)\n",
    "- 依赖查找(Dependency Lookup)"
   ]
  }
 ],
 "metadata": {},
 "nbformat": 4,
 "nbformat_minor": 0
}