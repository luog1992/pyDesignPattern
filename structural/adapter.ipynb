{
 "cells": [
  {
   "cell_type": "markdown",
   "metadata": {},
   "source": [
    "# Adapter\n",
    "\n",
    "参考:\n",
    "- https://github.com/faif/python-patterns/blob/master/structural/adapter.py\n",
    "- http://design-patterns.readthedocs.io/zh_CN/latest/structural_patterns/adapter.html#"
   ]
  },
  {
   "cell_type": "markdown",
   "metadata": {},
   "source": [
    "适配器模式包含如下角色:\n",
    "- Target: 目标抽象类\n",
    "- Adapter: 适配器类\n",
    "- Adaptee: 适配者类\n",
    "- Client: 客户类"
   ]
  },
  {
   "cell_type": "markdown",
   "metadata": {},
   "source": [
    "## 示例1: 对象适配器"
   ]
  },
  {
   "cell_type": "code",
   "execution_count": 1,
   "metadata": {},
   "outputs": [],
   "source": [
    "# Adaptee\n",
    "\n",
    "class Cat(object):\n",
    "    def __init__(self):\n",
    "        self.name = 'Cat'\n",
    "\n",
    "    def meow(self):\n",
    "        return 'meow...'\n",
    "\n",
    "\n",
    "class Dog(object):\n",
    "    def __init__(self):\n",
    "        self.name = 'Dog'\n",
    "\n",
    "    def bark(self):\n",
    "        return 'woof...'\n",
    "\n",
    "\n",
    "class Human(object):\n",
    "    def __init__(self):\n",
    "        self.name = 'Human'\n",
    "\n",
    "    def speak(self):\n",
    "        return 'hello...'\n",
    "\n",
    "# Adapter\n",
    "\n",
    "class Adapter(object):\n",
    "    \n",
    "    def __init__(self, obj, **adapted_methods):\n",
    "        self.obj = obj\n",
    "        self.__dict__.update(adapted_methods)\n",
    "    \n",
    "    def __getattr__(self, attr):\n",
    "        return getattr(self.obj, attr)"
   ]
  },
  {
   "cell_type": "code",
   "execution_count": 2,
   "metadata": {},
   "outputs": [
    {
     "name": "stdout",
     "output_type": "stream",
     "text": [
      "Dog woof...\nCat meow...\nHuman hello...\n"
     ]
    }
   ],
   "source": [
    "dog = Dog()\n",
    "cat = Cat()\n",
    "you = Human()\n",
    "\n",
    "objs = [\n",
    "    Adapter(dog, hello=dog.bark),\n",
    "    Adapter(cat, hello=cat.meow),\n",
    "    Adapter(you, hello=you.speak),\n",
    "]\n",
    "\n",
    "for obj in objs:\n",
    "    print obj.name, obj.hello()"
   ]
  },
  {
   "cell_type": "markdown",
   "metadata": {},
   "source": [
    "## 示例2: 对象适配器\n",
    "\n",
    "- https://gist.github.com/pazdera/1145859"
   ]
  },
  {
   "cell_type": "code",
   "execution_count": 6,
   "metadata": {},
   "outputs": [],
   "source": [
    "# Adaptee interface\n",
    "\n",
    "class EuropeanSocketInterface:\n",
    "    def voltage(self): pass\n",
    "    def live(self): pass\n",
    "    def neutral(self): pass\n",
    "    def earth(self): pass\n",
    "\n",
    "\n",
    "# Adaptee\n",
    "\n",
    "class Socket(EuropeanSocketInterface):\n",
    "    def voltage(self):\n",
    "        return 230\n",
    "    \n",
    "    def live(self):\n",
    "        return 1\n",
    "    \n",
    "    def neutral(self):\n",
    "        return -1\n",
    "    \n",
    "    def earth(self):\n",
    "        return 0\n",
    "\n",
    "\n",
    "# Target Interface\n",
    "\n",
    "class ChinaSocketInterface:\n",
    "    def voltage(self): pass\n",
    "    def live(self): pass\n",
    "    def neutral(self): pass\n",
    "\n",
    "\n",
    "# Adapter\n",
    "\n",
    "class Adapter(ChinaSocketInterface):\n",
    "    __socket = None\n",
    "    \n",
    "    def __init__(self, socket):\n",
    "        self.__socket = socket\n",
    "    \n",
    "    def voltage(self):\n",
    "        return 220\n",
    "    \n",
    "    def live(self):\n",
    "        return self.__socket.live()\n",
    "    \n",
    "    def neutral(self):\n",
    "        return self.__socket.neutral()\n",
    "\n",
    "\n",
    "# Client\n",
    "\n",
    "class Computer:\n",
    "    __power = None\n",
    "    \n",
    "    def __init__(self, power):\n",
    "        self.__power = power\n",
    "    \n",
    "    def turn_on(self):\n",
    "        if self.__power.voltage() > 220:\n",
    "            print 'Voltage is too high...'\n",
    "        else:\n",
    "            if self.__power.live() == 1 and self.__power.neutral() == -1:\n",
    "                print 'Coffee time!'\n",
    "            else:\n",
    "                print 'Turning on...'"
   ]
  },
  {
   "cell_type": "code",
   "execution_count": 9,
   "metadata": {},
   "outputs": [
    {
     "name": "stdout",
     "output_type": "stream",
     "text": [
      "Coffee time!\n"
     ]
    }
   ],
   "source": [
    "socket = Socket()\n",
    "adapter = Adapter(socket)\n",
    "computer = Computer(adapter)\n",
    "\n",
    "computer.turn_on()"
   ]
  },
  {
   "cell_type": "markdown",
   "metadata": {},
   "source": [
    "## 示例3: 类适配器 & 对象适配器\n",
    "\n",
    "- http://ginstrom.com/scribbles/2009/03/27/the-adapter-pattern-in-python/"
   ]
  },
  {
   "cell_type": "markdown",
   "metadata": {},
   "source": [
    ""
   ]
  },
  {
   "cell_type": "code",
   "execution_count": 17,
   "metadata": {},
   "outputs": [],
   "source": [
    "# Target\n",
    "\n",
    "class Creature(object):\n",
    "    \n",
    "    def make_noise(self):\n",
    "        raise NotImplemented\n",
    "\n",
    "\n",
    "class Person(Creature):\n",
    "    def __init__(self, name):\n",
    "        self.name = name\n",
    "    \n",
    "    def make_noise(self):\n",
    "        return \"Hello\"\n",
    "\n",
    "\n",
    "class Dog(object):\n",
    "    def __init__(self, name):\n",
    "        self.name = name\n",
    "    \n",
    "    def bark(self):\n",
    "        return \"Woof\"\n",
    "\n",
    "\n",
    "# 类适配器\n",
    "\n",
    "class DogClassAdapter(Creature, Dog):\n",
    "    def __init__(self, name):\n",
    "        Dog.__init__(self, name)  # <==\n",
    "    \n",
    "    def make_noise(self):\n",
    "        return self.bark()\n",
    "\n",
    "\n",
    "# 对象适配器\n",
    "\n",
    "class DogObjectAdapter(Creature):\n",
    "    def __init__(self, dog):\n",
    "        self.dog = dog\n",
    "    \n",
    "    def make_noise(self):\n",
    "        return self.dog.bark()\n",
    "    \n",
    "    def __getattr__(self, attr):\n",
    "        return getattr(self.dog, attr)"
   ]
  },
  {
   "cell_type": "code",
   "execution_count": 20,
   "metadata": {},
   "outputs": [
    {
     "name": "stdout",
     "output_type": "stream",
     "text": [
      "Hello\nWoof\n"
     ]
    }
   ],
   "source": [
    "person = Person('abc')\n",
    "print person.make_noise()\n",
    "\n",
    "dog = DogObjectAdapter(Dog('def'))\n",
    "print dog.make_noise()"
   ]
  },
  {
   "cell_type": "markdown",
   "metadata": {},
   "source": [
    "### 不适用Target, 使用鸭子模型"
   ]
  },
  {
   "cell_type": "code",
   "execution_count": 32,
   "metadata": {},
   "outputs": [],
   "source": [
    "class Person(object):\n",
    "    def __init__(self, name):\n",
    "        self.name = name\n",
    "    \n",
    "    def make_noise(self):\n",
    "        return 'Hello'\n",
    "\n",
    "\n",
    "class Dog(object):\n",
    "    def __init__(self, name):\n",
    "        self.name = name\n",
    "    \n",
    "    def bark(self):\n",
    "        return \"Woof\"\n",
    "\n",
    "\n",
    "class DogAdapter(object):\n",
    "    def __init__(self, dog):\n",
    "        self.dog = dog\n",
    "    \n",
    "    def make_noise(self):\n",
    "        return self.dog.bark()\n",
    "    \n",
    "    def __getattr__(self, item):\n",
    "        return getattr(self.dog, item)"
   ]
  },
  {
   "cell_type": "code",
   "execution_count": 33,
   "metadata": {},
   "outputs": [
    {
     "name": "stdout",
     "output_type": "stream",
     "text": [
      "Hello\nWoof\n"
     ]
    }
   ],
   "source": [
    "person = Person('person')\n",
    "dog = DogAdapter(Dog('dog'))\n",
    "\n",
    "print person.make_noise()\n",
    "print dog.make_noise()"
   ]
  },
  {
   "cell_type": "markdown",
   "metadata": {},
   "source": [
    "### 使用通用的适配器, 参考示例1"
   ]
  },
  {
   "cell_type": "code",
   "execution_count": null,
   "metadata": {},
   "outputs": [],
   "source": [
    ""
   ]
  }
 ],
 "metadata": {},
 "nbformat": 4,
 "nbformat_minor": 0
}