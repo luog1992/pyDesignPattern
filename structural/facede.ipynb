{
 "cells": [
  {
   "cell_type": "markdown",
   "metadata": {},
   "source": [
    "# 外观模式\n",
    "[参考链接]\n",
    "- http://blog.csdn.net/lovelion/article/details/17517213 中外观模式部分\n",
    "\n",
    "外观模式：为子系统中的一组接口提供一个统一的入口。外观模式定义了一个高层接口，这个接口使得这一子系统更加容易使用\n",
    "\n",
    "外观模式中，一个子系统的外部与其内部的通信通过一个统一的外观类进行，外观类将客户类与子系统的内部复杂性分隔开，使得客户类只需要与外观角色打交道，而不需要与子系统内部的很多对象打交道\n",
    "\n",
    "构成:\n",
    "- Facade(外观角色)\n",
    "- SubSystem(子系统角色)\n",
    "\n",
    "结构图:\n",
    "\n",
    "![外观模式](https://github.com/luog1992/fs/blob/master/2017102201.png?raw=true)\n",
    "\n",
    "示例:\n",
    "实现一个文件加密模块, 其以一定的方式读入数据, 加密后在通过一定的途径保存"
   ]
  },
  {
   "cell_type": "code",
   "execution_count": null,
   "metadata": {},
   "outputs": [],
   "source": [
    "class FileReader(object):\n",
    "    def read(self, name):\n",
    "        with open(name) as f:\n",
    "            text = f.read()\n",
    "        return text\n",
    "\n",
    "\n",
    "class Cipher(object):\n",
    "    def encrypt(self, text):\n",
    "        return text  # 假设这是加密过的数据\n",
    "\n",
    "\n",
    "class FileWriter(object):\n",
    "    def write(self, text):\n",
    "        return 'Finished'  # 假设数据已经写入到某个地方\n",
    "\n",
    "\n",
    "# 外观角色\n",
    "class Encrypter(object):\n",
    "    def __init__(self):\n",
    "        self.reader = FileReader()\n",
    "        self.cipher = Cipher()\n",
    "        self.writer = FileWriter()\n",
    "\n",
    "    def encrypt_file(self, name):\n",
    "        text = self.reader.read(name)\n",
    "        encrypted = self.cipher.encrypt(text)\n",
    "        self.writer.write(encrypted)"
   ]
  }
 ],
 "metadata": {},
 "nbformat": 4,
 "nbformat_minor": 0
}