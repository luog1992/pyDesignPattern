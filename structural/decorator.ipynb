{
 "cells": [
  {
   "cell_type": "markdown",
   "metadata": {},
   "source": [
    "# 装饰模式\n",
    "\n",
    "[参考链接]\n",
    "- http://blog.csdn.net/lovelion/article/details/17517213 中的装饰模式部分\n",
    "\n",
    "装饰模式(Decorator Pattern)：动态地给一个对象增加一些额外的职责，就增加对象功能来说，装饰模式比生成子类实现更为灵活。装饰模式是一种对象结构型模式。\n",
    "\n",
    "装饰模式是一种用于替代继承的技术，它通过一种无须定义子类的方式来给对象动态增加职责，使用对象之间的关联关系取代类之间的继承关系。在装饰模式中引入了装饰类，在装饰类中既可以调用待装饰的原有类的方法，还可以增加新的方法，以扩充原有类的功能。\n",
    "\n",
    "装饰模式包含如下角色:\n",
    "- Component\n",
    "- ConcreteComponent\n",
    "- Decorator\n",
    "- ConcreteDecorator\n",
    "\n",
    "装饰模式分类:\n",
    "- 透明(Transparent)装饰模式: 可以统一对待ConcreteDecorator和Decorator, 客户端完全针对抽象编程, 编程中应尽量使用透明模式\n",
    "- 半透明(Semi-transparent)装饰模式: ConcreteDecorator中额外实现了Decorator没有的方法, 而这些方法可能需要被单独调用, 故不能统一对待ConcreteDecorator和Decorator; 缺点是不能实现对同一个对象的多次装饰，而且客户端需要有区别地对待装饰之前的对象和装饰之后的对象\n",
    "\n",
    "装饰模式结构图:\n",
    "\n",
    "![结构图](https://github.com/luog1992/fs/blob/master/2017102200.png?raw=true)\n",
    "\n",
    "示例: 现在要在屏幕上显示window, text_box, list_box等控件, 而不同的控件又会有不同的样式, 如带scroll_bar, 有边框borded等等\n"
   ]
  },
  {
   "cell_type": "code",
   "execution_count": 8,
   "metadata": {},
   "outputs": [],
   "source": [
    "# abstract component\n",
    "class Component(object):\n",
    "\n",
    "    def display(self):\n",
    "        raise NotImplemented\n",
    "\n",
    "\n",
    "# concrete component\n",
    "class Window(Component):\n",
    "\n",
    "    def display(self):\n",
    "        print 'this is a WINDOW'\n",
    "\n",
    "\n",
    "class TextBox(Component):\n",
    "\n",
    "    def display(self):\n",
    "        print 'this is a TEXT BOX'\n",
    "\n",
    "\n",
    "class ListBox(Component):\n",
    "\n",
    "    def display(self):\n",
    "        print 'this is a LIST BOX'\n",
    "\n",
    "\n",
    "# abstract decorator\n",
    "class ComponentDecorator(object):\n",
    "    component = None\n",
    "\n",
    "    def __init__(self, component=None):\n",
    "        self.component = component\n",
    "\n",
    "    def display(self):\n",
    "        if self.component is None:\n",
    "            raise\n",
    "        self.component.display()\n",
    "\n",
    "\n",
    "# concrete decorator\n",
    "class ScrollBarDecorator(ComponentDecorator):\n",
    "\n",
    "    def display(self):\n",
    "        self.render_scroll_bar()\n",
    "        super(ScrollBarDecorator, self).display()\n",
    "    \n",
    "    def render_scroll_bar(self):\n",
    "        print 'adding SCROLL BAR'\n",
    "\n",
    "\n",
    "class BorderedDecorator(ComponentDecorator):\n",
    "\n",
    "    def display(self):\n",
    "        self.render_border()\n",
    "        super(BorderedDecorator, self).display()\n",
    "\n",
    "    def render_border(self):\n",
    "        print 'adding BORDER'"
   ]
  },
  {
   "cell_type": "code",
   "execution_count": 9,
   "metadata": {},
   "outputs": [
    {
     "name": "stdout",
     "output_type": "stream",
     "text": [
      "this is a WINDOW\n"
     ]
    }
   ],
   "source": [
    "window = Window()\n",
    "window.display()"
   ]
  },
  {
   "cell_type": "code",
   "execution_count": 10,
   "metadata": {},
   "outputs": [
    {
     "name": "stdout",
     "output_type": "stream",
     "text": [
      "adding SCROLL BAR\nthis is a TEXT BOX\n"
     ]
    }
   ],
   "source": [
    "text_box = TextBox()\n",
    "scrollable_text_box = ScrollBarDecorator(text_box)\n",
    "scrollable_text_box.display()"
   ]
  },
  {
   "cell_type": "code",
   "execution_count": 16,
   "metadata": {},
   "outputs": [
    {
     "name": "stdout",
     "output_type": "stream",
     "text": [
      "adding BORDER\nadding SCROLL BAR\nthis is a TEXT BOX\n"
     ]
    }
   ],
   "source": [
    "# 对同一个对象进行多次装饰\n",
    "scrollable_bordered_text_box = BorderedDecorator(scrollable_text_box)\n",
    "scrollable_bordered_text_box.display()"
   ]
  }
 ],
 "metadata": {},
 "nbformat": 4,
 "nbformat_minor": 0
}