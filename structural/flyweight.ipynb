{
 "cells": [
  {
   "cell_type": "markdown",
   "metadata": {},
   "source": [
    "# 享元模式\n",
    "\n",
    "[参考链接]\n",
    "- :star: :star: :star: http://yloiseau.net/articles/DesignPatterns/flyweight/\n",
    "- https://github.com/faif/python-patterns/blob/master/structural/flyweight.py\n",
    "\n",
    "享元模式(Flyweight Pattern)：运用共享技术有效地支持大量细粒度对象的复用。系统只使用少量的对象，而这些对象都很相似，状态变化很小，可以实现对象的多次复用。由于享元模式要求能够共享的对象必须是细粒度对象，因此它又称为轻量级模式，它是一种对象结构型模式。\n",
    "\n",
    "享元模式以共享的方式高效地支持大量细粒度对象的重用，享元对象能做到共享的关键是区分了内部状态(Intrinsic State)和外部状态(Extrinsic State)：\n",
    "- 内部状态是存储在享元对象内部并且不会随环境改变而改变的状态，内部状态可以共享。如字符的内容，不会随外部环境的变化而变化，无论在任何环境下字符“a”始终是“a”，都不会变成“b”。\n",
    "- 外部状态是随环境改变而改变的、不可以共享的状态。享元对象的外部状态通常由客户端保存，并在享元对象被创建之后，需要使用的时候再传入到享元对象内部。"
   ]
  },
  {
   "cell_type": "markdown",
   "metadata": {},
   "source": [
    "## 通过工厂模式实现"
   ]
  },
  {
   "cell_type": "code",
   "execution_count": 58,
   "metadata": {},
   "outputs": [],
   "source": [
    "class Spam(object):\n",
    "    def __init__(self, a, b):\n",
    "        self.a = a\n",
    "        self.b = b\n",
    "\n",
    "\n",
    "class SpamFactory(object):\n",
    "    def __init__(self):\n",
    "        self.__instances = dict()\n",
    "\n",
    "    def get_instances(self, a, b):\n",
    "        key = ','.join(map(str, [a, b]))\n",
    "        if key not in self.__instances:\n",
    "            self.__instances[key] = Spam(a, b)\n",
    "        return self.__instances[key]\n",
    "\n",
    "\n",
    "spam_factory = SpamFactory()"
   ]
  },
  {
   "cell_type": "code",
   "execution_count": 64,
   "metadata": {},
   "outputs": [
    {
     "name": "stdout",
     "output_type": "stream",
     "text": [
      "True\nTrue\n"
     ]
    }
   ],
   "source": [
    "spam1 = spam_factory.get_instances(1, 2)\n",
    "spam2 = spam_factory.get_instances(1, 2)\n",
    "spam3 = spam_factory.get_instances(1, 3)\n",
    "print spam1 is spam2\n",
    "print spam1 is not spam3"
   ]
  },
  {
   "cell_type": "markdown",
   "metadata": {},
   "source": [
    "## 通过抽象工厂模式实现"
   ]
  },
  {
   "cell_type": "code",
   "execution_count": 71,
   "metadata": {},
   "outputs": [
    {
     "name": "stdout",
     "output_type": "stream",
     "text": [
      "True\nTrue\nTrue\n"
     ]
    }
   ],
   "source": [
    "class FlyweightFactory(object):\n",
    "    def __init__(self, kls):\n",
    "        self._kls = kls\n",
    "        self._instances = dict()\n",
    "\n",
    "    def get_instance(self, *args, **kwargs):\n",
    "        key = ','.join(map(str, args) + [str(kwargs)])\n",
    "        if key not in self._instances:\n",
    "            self._instances[key] = self._kls(*args, **kwargs)\n",
    "        return self._instances[key]\n",
    "\n",
    "\n",
    "class Foo(object):\n",
    "    def __init__(self, a, b):\n",
    "        self.a = a\n",
    "        self.b = b\n",
    "\n",
    "\n",
    "class Bar(object):\n",
    "    def __init__(self, x, y):\n",
    "        self.x = x\n",
    "        self.y = y\n",
    "\n",
    "\n",
    "foo_factory = FlyweightFactory(Foo)\n",
    "bar_factory = FlyweightFactory(Bar)\n",
    "\n",
    "print foo_factory.get_instance(1, 2) is foo_factory.get_instance(1, 2)\n",
    "print foo_factory.get_instance(1, 2) is not foo_factory.get_instance(1, 3)\n",
    "print bar_factory.get_instance(1, 2) is not foo_factory.get_instance(1, 2)"
   ]
  },
  {
   "cell_type": "markdown",
   "metadata": {},
   "source": [
    "## 通过类装饰器实现"
   ]
  },
  {
   "cell_type": "code",
   "execution_count": 44,
   "metadata": {},
   "outputs": [
    {
     "name": "stdout",
     "output_type": "stream",
     "text": [
      "flyweight __init__ Foo\nflyweight __init__ Bar\n"
     ]
    }
   ],
   "source": [
    "class flyweight(object):\n",
    "    def __init__(self, kls):\n",
    "        print 'flyweight __init__', kls.__name__\n",
    "        self._kls = kls\n",
    "        self._instances = dict()\n",
    "\n",
    "    def __call__(self, *args, **kwargs):\n",
    "        print 'flyweight __call__'\n",
    "        key = ','.join(map(str, args) + [str(kwargs)])\n",
    "        if key not in self._instances:\n",
    "            self._instances[key] = self._kls(*args, **kwargs)\n",
    "        return self._instances[key]\n",
    "\n",
    "\n",
    "@flyweight\n",
    "class Foo(object):\n",
    "    def __init__(self, x, y):\n",
    "        self.x = x\n",
    "        self.y = y\n",
    "\n",
    "\n",
    "@flyweight\n",
    "class Bar(object):\n",
    "    def __init__(self, a, b):\n",
    "        self.a = a\n",
    "        self.b = b"
   ]
  },
  {
   "cell_type": "code",
   "execution_count": 45,
   "metadata": {},
   "outputs": [
    {
     "name": "stdout",
     "output_type": "stream",
     "text": [
      "True\nflyweight __call__\nflyweight __call__\nflyweight __call__\nflyweight __call__\n"
     ]
    }
   ],
   "source": [
    "print isinstance(Foo, flyweight)\n",
    "\n",
    "foo1 = Foo(1, 2)\n",
    "foo2 = Foo(1, 2)\n",
    "foo3 = Foo(1, 3)\n",
    "bar1 = Bar(1, 2)"
   ]
  },
  {
   "cell_type": "code",
   "execution_count": 46,
   "metadata": {},
   "outputs": [
    {
     "name": "stdout",
     "output_type": "stream",
     "text": [
      "True\nTrue\nTrue\n"
     ]
    }
   ],
   "source": [
    "print foo1 is foo2\n",
    "print foo2 is not foo3\n",
    "print foo1 is not bar1"
   ]
  },
  {
   "cell_type": "markdown",
   "metadata": {},
   "source": [
    "## 享元模式: 重构`__new__`"
   ]
  },
  {
   "cell_type": "code",
   "execution_count": 16,
   "metadata": {},
   "outputs": [],
   "source": [
    "import weakref\n",
    "\n",
    "\n",
    "class Card(object):\n",
    "    _card_pool = weakref.WeakValueDictionary()\n",
    "\n",
    "    def __new__(cls, value, suit):\n",
    "        key = str(value) + str(suit)\n",
    "        card = cls._card_pool.get(key)\n",
    "        if not card:\n",
    "            card = object.__new__(cls)\n",
    "            cls._card_pool[key] = card\n",
    "            card.value, card.suit = value, suit\n",
    "        return card\n",
    "\n",
    "    def __repr__(self):\n",
    "        return '<Card: %s-%s>' % (self.value, self.suit)"
   ]
  },
  {
   "cell_type": "code",
   "execution_count": 17,
   "metadata": {},
   "outputs": [
    {
     "name": "stdout",
     "output_type": "stream",
     "text": [
      "<Card: 6-diamond> <Card: 6-diamond>\nTrue\nTrue\n"
     ]
    }
   ],
   "source": [
    "card1 = Card(6, 'diamond')\n",
    "card2 = Card(6, 'diamond')\n",
    "\n",
    "print card1, card2\n",
    "print card1 == card2\n",
    "print card1 is card2"
   ]
  },
  {
   "cell_type": "code",
   "execution_count": 18,
   "metadata": {},
   "outputs": [
    {
     "name": "stdout",
     "output_type": "stream",
     "text": [
      "aaa\naaa\n"
     ]
    }
   ],
   "source": [
    "card1.tmp = 'aaa'\n",
    "print card2.tmp\n",
    "\n",
    "card3 = Card(6, 'diamond')\n",
    "print card3.tmp"
   ]
  },
  {
   "cell_type": "markdown",
   "metadata": {},
   "source": [
    "## 享元模式: 通过元类"
   ]
  },
  {
   "cell_type": "code",
   "execution_count": 15,
   "metadata": {},
   "outputs": [],
   "source": [
    "import weakref\n",
    "\n",
    "\n",
    "class FlyweightMeta(type):\n",
    "    def __new__(cls, name, parents, dct):\n",
    "        \"\"\"\n",
    "        :param name: class name\n",
    "        :param parents: class parents\n",
    "        :param dct: dict contains class attrs, methods\n",
    "        :return: a new class instance\n",
    "        \"\"\"\n",
    "        print 'FlyweightMeta __new__'\n",
    "        dct['pool'] = weakref.WeakValueDictionary()\n",
    "        # 1 or 3 arguments is need when create a `type` object\n",
    "        return super(FlyweightMeta, cls).__new__(cls, name, parents, dct)\n",
    "\n",
    "    @staticmethod\n",
    "    def _serialize_params(cls, *args, **kwargs):\n",
    "        print 'FlyweightMeta _serialize_params'\n",
    "        args = list(map(str, args))\n",
    "        args += [str(kwargs), cls.__name__]\n",
    "        return ''.join(args)\n",
    "\n",
    "    def __call__(cls, *args, **kwargs):\n",
    "        print 'FlyweightMeta __call__'\n",
    "        pool = getattr(cls, 'pool', {})\n",
    "        key = FlyweightMeta._serialize_params(cls, *args, **kwargs)\n",
    "        obj = pool.get(key)\n",
    "        if obj is None:\n",
    "            obj = super(FlyweightMeta, cls).__call__(*args, **kwargs)\n",
    "            pool[key] = obj\n",
    "        return obj"
   ]
  },
  {
   "cell_type": "code",
   "execution_count": 36,
   "metadata": {},
   "outputs": [
    {
     "name": "stdout",
     "output_type": "stream",
     "text": [
      "FlyweightMeta __new__\nFlyweightMeta __new__\n"
     ]
    }
   ],
   "source": [
    "def _metaclass(meta, *bases):\n",
    "    \"\"\"兼容python2/3\"\"\"\n",
    "    return meta(\"flyweight\", bases, {})\n",
    "\n",
    "\n",
    "class FlyCard(_metaclass(FlyweightMeta)):\n",
    "    def __init__(self, *args, **kwargs):\n",
    "        pass"
   ]
  },
  {
   "cell_type": "code",
   "execution_count": 17,
   "metadata": {},
   "outputs": [
    {
     "name": "stdout",
     "output_type": "stream",
     "text": [
      "FlyweightMeta __call__\nFlyweightMeta _serialize_params\n====================\nFlyweightMeta __call__\nFlyweightMeta _serialize_params\n====================\nFlyweightMeta __call__\nFlyweightMeta _serialize_params\n"
     ]
    }
   ],
   "source": [
    "fly_card1 = FlyCard('6', 'heart', 1)\n",
    "print '=' * 20\n",
    "fly_card2 = FlyCard('6', 'heart', 1)\n",
    "print '=' * 20\n",
    "fly_card3 = FlyCard('6', 'heart', '2')"
   ]
  },
  {
   "cell_type": "code",
   "execution_count": 18,
   "metadata": {},
   "outputs": [
    {
     "name": "stdout",
     "output_type": "stream",
     "text": [
      "True\nTrue\nTrue\n"
     ]
    }
   ],
   "source": [
    "print fly_card1 is fly_card2\n",
    "print fly_card1 is not fly_card3\n",
    "print len(FlyCard.pool) == 2"
   ]
  },
  {
   "cell_type": "markdown",
   "metadata": {},
   "source": [
    "## 享元模式: 通过Mixin"
   ]
  },
  {
   "cell_type": "code",
   "execution_count": 32,
   "metadata": {},
   "outputs": [],
   "source": [
    "import weakref\n",
    "\n",
    "\n",
    "class FlyWeightMixin(object):\n",
    "    pool = weakref.WeakValueDictionary()\n",
    "\n",
    "    def __new__(cls, *args, **kwargs):\n",
    "        items = list(map(str, args))\n",
    "        items += [str(kwargs), cls.__name__]\n",
    "        key = ','.join(items)\n",
    "        if key not in cls.pool:\n",
    "            obj = super(FlyWeightMixin, cls).__new__(cls, *args, **kwargs)\n",
    "            cls.pool[key] = obj\n",
    "        return cls.pool[key]\n",
    "\n",
    "\n",
    "class Foo(FlyWeightMixin):\n",
    "    def __init__(self, a, b):\n",
    "        self.a = a\n",
    "        self.b = b\n",
    "\n",
    "\n",
    "class SubFoo(Foo):\n",
    "    pass"
   ]
  },
  {
   "cell_type": "code",
   "execution_count": 34,
   "metadata": {},
   "outputs": [
    {
     "name": "stdout",
     "output_type": "stream",
     "text": [
      "True\nTrue\n"
     ]
    }
   ],
   "source": [
    "foo1 = Foo(1, 2)\n",
    "foo2 = Foo(1, 2)\n",
    "subf = SubFoo(1, 2)\n",
    "\n",
    "print foo1 is foo2\n",
    "print foo1 is not subf"
   ]
  }
 ],
 "metadata": {},
 "nbformat": 4,
 "nbformat_minor": 0
}