{
 "cells": [
  {
   "cell_type": "markdown",
   "metadata": {},
   "source": [
    "# 3-Tier\n",
    "\n",
    "参考:\n",
    "- https://github.com/faif/python-patterns/blob/master/structural/3-tier.py\n",
    "- https://stackoverflow.com/questions/4577587/mvc-vs-3-tier-architecture\n",
    "\n",
    "\n",
    "3-tier is a Architecture Style other than a kind of Design Pattern"
   ]
  },
  {
   "cell_type": "code",
   "execution_count": 13,
   "metadata": {},
   "outputs": [],
   "source": [
    "class Data(object):\n",
    "    \n",
    "    products = {\n",
    "        'milk': dict(price=1, quantity=20),\n",
    "        'egg': dict(price=0.5, quantity=50),\n",
    "        'cheese': dict(price=2, quantity=10)\n",
    "    }\n",
    "    \n",
    "    def __get__(self, obj, klas):\n",
    "        print 'Fetching from the store'\n",
    "        return dict(products=self.products)\n",
    "\n",
    "\n",
    "class BusinessLogic(object):\n",
    "    \n",
    "    data = Data()\n",
    "    \n",
    "    def get_products(self):\n",
    "        return self.data['products'].keys()\n",
    "    \n",
    "    def get_product(self, name):\n",
    "        return self.data['products'].get(name, None)\n",
    "\n",
    "\n",
    "class UI(object):\n",
    "    \n",
    "    def __init__(self):\n",
    "        self.business = BusinessLogic()\n",
    "    \n",
    "    def get_products(self):\n",
    "        for prod in self.business.get_products():\n",
    "            print '-', prod\n",
    "    \n",
    "    def get_product(self, name):\n",
    "        info = self.business.get_product(name)\n",
    "        if info:\n",
    "            print 'Name    : ', name\n",
    "            print 'Price   : ', info['price']\n",
    "            print 'Quantity: ', info['quantity']"
   ]
  },
  {
   "cell_type": "code",
   "execution_count": 14,
   "metadata": {},
   "outputs": [
    {
     "name": "stdout",
     "output_type": "stream",
     "text": [
      "Fetching from the store\n- cheese\n- egg\n- milk\n"
     ]
    }
   ],
   "source": [
    "ui = UI()\n",
    "ui.get_products()"
   ]
  },
  {
   "cell_type": "code",
   "execution_count": 15,
   "metadata": {},
   "outputs": [
    {
     "name": "stdout",
     "output_type": "stream",
     "text": [
      "Fetching from the store\nName    :  egg\nPrice   :  0.5\nQuantity:  50\n"
     ]
    }
   ],
   "source": [
    "ui.get_product('egg')"
   ]
  }
 ],
 "metadata": {},
 "nbformat": 4,
 "nbformat_minor": 0
}