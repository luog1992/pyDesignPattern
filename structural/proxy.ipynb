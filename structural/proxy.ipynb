{
 "cells": [
  {
   "cell_type": "markdown",
   "metadata": {},
   "source": [
    "# 代理模式\n",
    "\n",
    "[参考链接]\n",
    "- http://blog.csdn.net/lovelion/article/details/17517213 中代理模式部分\n",
    "- https://github.com/faif/python-patterns/blob/master/structural/proxy.py\n",
    "\n",
    "代理模式：给某一个对象提供一个代理或占位符，并由代理对象来控制对原对象的访问。\n",
    "\n",
    "代理模式包含角色:\n",
    "- subject(抽象代理):声明了真实主题和代理主题的共同接口\n",
    "- proxy(代理主题)\n",
    "- real_subject(真实主题)\n",
    "\n",
    "代理模式分类:\n",
    "- 远程代理(remote proxy): 为一个位于不同的地址空间的对象提供一个本地的代理对象\n",
    "- 虚拟代理(virtual proxy): 如果需要创建一个资源消耗较大的对象，先创建一个消耗相对较小的对象来表示，真实对象只在需要时才会被真正创建\n",
    "- 保护代理(protect proxy): 控制对一个对象的访问，可以给不同的用户提供不同级别的使用权限\n",
    "- 缓冲代理(cache proxy): 为某一个目标操作的结果提供临时的存储空间，以便多个客户端可以共享这些结果\n",
    "- 智能引用代理(smart reference proxy): 当一个对象被引用时，提供一些额外的操作，例如记录对象的调用次数\n"
   ]
  },
  {
   "cell_type": "code",
   "execution_count": 1,
   "metadata": {},
   "outputs": [],
   "source": [
    "class Manager(object):\n",
    "    def talk(self):\n",
    "        print 'I am the manager'\n",
    "\n",
    "\n",
    "class Proxy(object):\n",
    "    def __init__(self, manager, busy=False):\n",
    "        self.busy = busy\n",
    "        self.manager = manager\n",
    "\n",
    "    def talk(self):\n",
    "        if self.busy:\n",
    "            print 'The manager is busy'\n",
    "        else:\n",
    "            self.manager.talk()\n",
    "\n",
    "\n",
    "class BusyProxy(Proxy):\n",
    "    def talk(self):\n",
    "        print 'The manager is busy'"
   ]
  },
  {
   "cell_type": "code",
   "execution_count": 2,
   "metadata": {},
   "outputs": [
    {
     "name": "stdout",
     "output_type": "stream",
     "text": [
      "I am the manager\n"
     ]
    }
   ],
   "source": [
    "m = Manager()\n",
    "p = Proxy(m)\n",
    "p.talk()"
   ]
  },
  {
   "cell_type": "code",
   "execution_count": 5,
   "metadata": {},
   "outputs": [
    {
     "name": "stdout",
     "output_type": "stream",
     "text": [
      "The manager is busy\n"
     ]
    }
   ],
   "source": [
    "p1 = BusyProxy(p)\n",
    "p1.talk()"
   ]
  }
 ],
 "metadata": {},
 "nbformat": 4,
 "nbformat_minor": 0
}