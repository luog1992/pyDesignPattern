{
 "cells": [
  {
   "cell_type": "markdown",
   "metadata": {},
   "source": [
    "# Abstract Factory"
   ]
  },
  {
   "cell_type": "code",
   "execution_count": 22,
   "metadata": {},
   "outputs": [],
   "source": [
    "from __future__ import print_function\n",
    "import random\n",
    "import six\n",
    "import abc"
   ]
  },
  {
   "cell_type": "markdown",
   "metadata": {},
   "source": [
    "## 工厂方法模式"
   ]
  },
  {
   "cell_type": "code",
   "execution_count": 14,
   "metadata": {},
   "outputs": [],
   "source": [
    "class PetShop(object):\n",
    "    \n",
    "    def __init__(self, animal_factory=None):\n",
    "        self.pet_factory = animal_factory\n",
    "    \n",
    "    def show_pet(self):\n",
    "        pet = self.pet_factory.get_pet()\n",
    "        print('Pet: {}'.format(pet))\n",
    "        print('Pet speaks: {}'.format(pet.speak()))\n",
    "        print('Pet foods: {}'.format(self.pet_factory.get_food()))"
   ]
  },
  {
   "cell_type": "code",
   "execution_count": 15,
   "metadata": {},
   "outputs": [],
   "source": [
    "class Dog(object):\n",
    "    def speak(self):\n",
    "        return 'woof...'\n",
    "    \n",
    "    def __str__(self):\n",
    "        return 'Dog'\n",
    "\n",
    "\n",
    "class Cat(object):\n",
    "    def speak(self):\n",
    "        return 'miao...'\n",
    "    \n",
    "    def __str__(self):\n",
    "        return 'Cat'"
   ]
  },
  {
   "cell_type": "code",
   "execution_count": 16,
   "metadata": {},
   "outputs": [],
   "source": [
    "class DogFactory(object):\n",
    "    def get_pet(self):\n",
    "        return Dog()\n",
    "    \n",
    "    def get_food(self):\n",
    "        return 'dog food'\n",
    "    \n",
    "\n",
    "class CatFactory(object):\n",
    "    def get_pet(self):\n",
    "        return Cat()\n",
    "    \n",
    "    def get_food(self):\n",
    "        return 'cat food'"
   ]
  },
  {
   "cell_type": "code",
   "execution_count": 17,
   "metadata": {},
   "outputs": [],
   "source": [
    "def get_factory():\n",
    "    return random.choice([DogFactory, CatFactory])()"
   ]
  },
  {
   "cell_type": "code",
   "execution_count": 19,
   "metadata": {
    "collapsed": false
   },
   "outputs": [
    {
     "name": "stdout",
     "output_type": "stream",
     "text": [
      "Pet: Cat\nPet speaks: miao...\nPet foods: cat food\n====================\nPet: Dog\nPet speaks: woof...\nPet foods: dog food\n====================\nPet: Cat\nPet speaks: miao...\nPet foods: cat food\n====================\n"
     ]
    }
   ],
   "source": [
    "# Test\n",
    "for i in range(3):\n",
    "    pet_shop = PetShop(get_factory())\n",
    "    pet_shop.show_pet()\n",
    "    print('=' * 20)"
   ]
  },
  {
   "cell_type": "markdown",
   "metadata": {},
   "source": [
    "## 抽象工厂模式"
   ]
  },
  {
   "cell_type": "code",
   "execution_count": 23,
   "metadata": {},
   "outputs": [],
   "source": [
    "@six.add_metaclass(abc.ABCMeta)\n",
    "class Pet(object):\n",
    "    \n",
    "    @classmethod\n",
    "    def from_name(cls, name):\n",
    "        for sub_cls in cls.__subclasses__():\n",
    "            if name == sub_cls.__name__.lower():\n",
    "                return sub_cls()\n",
    "    \n",
    "    @abc.abstractmethod\n",
    "    def speaks(self):\n",
    "        \"\"\"\"\"\"\n",
    "        \n",
    "class Kitty(Pet):\n",
    "    def speaks(self):\n",
    "        return \"miao...\"\n",
    "\n",
    "\n",
    "class Duck(Pet):\n",
    "    def speaks(self):\n",
    "        return 'quak...'"
   ]
  },
  {
   "cell_type": "code",
   "execution_count": 26,
   "metadata": {},
   "outputs": [
    {
     "name": "stdout",
     "output_type": "stream",
     "text": [
      "kitty: miao...\nduck: quak...\n"
     ]
    }
   ],
   "source": [
    "for name in ['kitty', 'duck']:\n",
    "    pet = Pet.from_name(name)\n",
    "    print('{}: {}'.format(name, pet.speaks()))"
   ]
  }
 ],
 "metadata": {},
 "nbformat": 4,
 "nbformat_minor": 0
}