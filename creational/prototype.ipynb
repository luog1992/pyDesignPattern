{
 "cells": [
  {
   "cell_type": "markdown",
   "metadata": {},
   "source": [
    "# Prototype\n",
    "\n",
    "参考:\n",
    "- https://github.com/faif/python-patterns/blob/master/creational/prototype.py\n",
    "- http://blog.csdn.net/zhengzhb/article/details/7393528\n",
    "- http://code.activestate.com/recipes/86651-prototype-pattern/\n",
    "\n",
    "原型模式的一个出发点是为了解决`new`一个对象的消耗, 故第一个参考中的代码不可取(?)"
   ]
  },
  {
   "cell_type": "code",
   "execution_count": 5,
   "metadata": {},
   "outputs": [],
   "source": [
    "import copy\n",
    "\n",
    "class Person(object):\n",
    "    def __init__(self, name, age):\n",
    "        print 'Person init is called'\n",
    "        self.name = name\n",
    "        self.age = age\n",
    "    \n",
    "    def __str__(self):\n",
    "        return '<Person name=%s age=%s>' % (self.name, self.age)\n",
    "\n",
    "\n",
    "class Prototype(object):\n",
    "    def __init__(self):\n",
    "        self._objs = {}\n",
    "    \n",
    "    def register_obj(self, identifier, obj):\n",
    "        self._objs[identifier] = obj\n",
    "    \n",
    "    def unregister_obj(self, identifier):\n",
    "        self._objs.pop(identifier, None)\n",
    "    \n",
    "    def clone(self, identifier, **attr):\n",
    "        obj = self._objs.get(identifier)\n",
    "        if obj is None:\n",
    "            raise ValueError\n",
    "        copied = copy.deepcopy(obj)\n",
    "        copied.__dict__.update(attr)\n",
    "        return copied"
   ]
  },
  {
   "cell_type": "code",
   "execution_count": 11,
   "metadata": {},
   "outputs": [
    {
     "name": "stdout",
     "output_type": "stream",
     "text": [
      "Person init is called\n<Person name=alice age=11>\n<Person name=bob age=11>\n"
     ]
    }
   ],
   "source": [
    "alice = Person('alice', 11)\n",
    "print alice\n",
    "\n",
    "prototype = Prototype()\n",
    "prototype.register_obj('alice', alice)\n",
    "\n",
    "bob = prototype.clone('alice', name='bob')\n",
    "print bob"
   ]
  }
 ],
 "metadata": {},
 "nbformat": 4,
 "nbformat_minor": 0
}