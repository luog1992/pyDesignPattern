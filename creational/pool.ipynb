{
 "cells": [
  {
   "cell_type": "markdown",
   "metadata": {},
   "source": [
    "# Object Pool"
   ]
  },
  {
   "cell_type": "code",
   "execution_count": 18,
   "metadata": {},
   "outputs": [],
   "source": [
    "class AnimalPool(object):\n",
    "    def __init__(self, queue, auto_get=False):\n",
    "        self._queue = queue\n",
    "        self.item = self._queue.get() if auto_get else None\n",
    "    \n",
    "    def __enter__(self):\n",
    "        print '__enter__'\n",
    "        if self.item is None:\n",
    "            self.item = self._queue.get()\n",
    "        return self.item\n",
    "    \n",
    "    def __exit__(self, exc_type, exc_val, exc_tb):\n",
    "        print '__exit__'\n",
    "        if self.item is not None:\n",
    "            self._queue.put(self.item)\n",
    "            self.item = None\n",
    "    \n",
    "    def __del__(self):\n",
    "        print '__del__'\n",
    "        if self.item is not None:\n",
    "            self._queue.put(self.item)\n",
    "            self.item = None"
   ]
  },
  {
   "cell_type": "code",
   "execution_count": 19,
   "metadata": {
    "collapsed": true
   },
   "outputs": [
    {
     "name": "stdout",
     "output_type": "stream",
     "text": [
      "len:  1\n__enter__\nInside:  Cat\n__exit__\n__del__\nlen:  1\nOutside: Cat\nlen:  0\n"
     ]
    }
   ],
   "source": [
    "try:\n",
    "    import queue\n",
    "except ImportError:\n",
    "    import Queue as queue\n",
    "\n",
    "\n",
    "animal_queue = queue.Queue()\n",
    "\n",
    "animal_queue.put('Cat')\n",
    "print 'len: ', animal_queue.qsize()\n",
    "with AnimalPool(animal_queue) as animal:\n",
    "    print 'Inside: ', animal\n",
    "\n",
    "print 'len: ', animal_queue.qsize()\n",
    "print 'Outside:', animal_queue.get()\n",
    "print 'len: ', animal_queue.qsize()"
   ]
  },
  {
   "cell_type": "code",
   "execution_count": 20,
   "metadata": {},
   "outputs": [
    {
     "name": "stdout",
     "output_type": "stream",
     "text": [
      "Inside:  Dog\n__del__\nlen:  1\nOutside: Dog\n"
     ]
    }
   ],
   "source": [
    "def test_object(queue):\n",
    "    pool = AnimalPool(queue, True)\n",
    "    print 'Inside: ', pool.item\n",
    "\n",
    "animal_queue.put('Dog')\n",
    "test_object(animal_queue)\n",
    "print 'len: ', animal_queue.qsize()\n",
    "print 'Outside:', animal_queue.get()"
   ]
  },
  {
   "cell_type": "code",
   "execution_count": null,
   "metadata": {},
   "outputs": [],
   "source": [
    ""
   ]
  }
 ],
 "metadata": {},
 "nbformat": 4,
 "nbformat_minor": 0
}