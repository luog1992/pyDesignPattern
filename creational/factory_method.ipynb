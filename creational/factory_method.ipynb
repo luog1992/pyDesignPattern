{
 "cells": [
  {
   "cell_type": "markdown",
   "metadata": {
    "collapsed": true
   },
   "source": [
    "# Factory Method"
   ]
  },
  {
   "cell_type": "code",
   "execution_count": 1,
   "metadata": {},
   "outputs": [
    {
     "name": "stdout",
     "output_type": "stream",
     "text": [
      "人\nperson\n"
     ]
    }
   ],
   "source": [
    "class ChineseTranslator(object):\n",
    "    def __init__(self):\n",
    "        self.trans = {\n",
    "            'person': '人',\n",
    "            'cat': '猫',\n",
    "        }\n",
    "    \n",
    "    def get(self, word):\n",
    "        return self.trans.get(word, str(word))\n",
    "\n",
    "\n",
    "class EnglishTranslator(object):\n",
    "    def get(self, word):\n",
    "        return str(word)\n",
    "\n",
    "\n",
    "def get_localizer(language='English'):\n",
    "    langs = {\n",
    "        'English': EnglishTranslator,\n",
    "        'Chinese': ChineseTranslator,\n",
    "    }\n",
    "    return langs[language]()\n",
    "\n",
    "c = get_localizer(language='Chinese')\n",
    "e = get_localizer(language='English')\n",
    "\n",
    "print c.get('person')\n",
    "print e.get('person')"
   ]
  },
  {
   "cell_type": "code",
   "execution_count": null,
   "metadata": {},
   "outputs": [],
   "source": [
    ""
   ]
  }
 ],
 "metadata": {
  "kernelspec": {
   "display_name": "Python 2",
   "language": "python",
   "name": "python2"
  },
  "language_info": {
   "codemirror_mode": {
    "name": "ipython",
    "version": 2.0
   },
   "file_extension": ".py",
   "mimetype": "text/x-python",
   "name": "python",
   "nbconvert_exporter": "python",
   "pygments_lexer": "ipython2",
   "version": "2.7.6"
  }
 },
 "nbformat": 4,
 "nbformat_minor": 0
}