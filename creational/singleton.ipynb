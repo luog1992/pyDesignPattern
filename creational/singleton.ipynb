{
 "cells": [
  {
   "cell_type": "markdown",
   "metadata": {},
   "source": [
    "# Singleton"
   ]
  },
  {
   "cell_type": "markdown",
   "metadata": {},
   "source": [
    "## 1. 自定义类装饰器\n",
    "\n",
    "参考:\n",
    "- https://stackoverflow.com/questions/31875/is-there-a-simple-elegant-way-to-define-singletons"
   ]
  },
  {
   "cell_type": "code",
   "execution_count": 5,
   "metadata": {},
   "outputs": [
    {
     "name": "stdout",
     "output_type": "stream",
     "text": [
      "Foo created\nTrue\nHello, world\n"
     ]
    }
   ],
   "source": [
    "class singleton(object):\n",
    "    def __init__(self, decorated):\n",
    "        self._decorated = decorated\n",
    "    \n",
    "    def Instance(self):\n",
    "        try:\n",
    "            return self._instance\n",
    "        except AttributeError:\n",
    "            self._instance = self._decorated()\n",
    "            return self._instance\n",
    "    \n",
    "    def __call__(self, *args, **kwargs):\n",
    "        raise TypeError('Singleton must be accessed via `Instance`')\n",
    "    \n",
    "    def __instancecheck__(self, inst):\n",
    "        return isinstance(inst, self._decorated)\n",
    "\n",
    "\n",
    "@singleton\n",
    "class Foo(object):\n",
    "    def __init__(self):\n",
    "        print 'Foo created'\n",
    "    \n",
    "    def hello(self):\n",
    "        print 'Hello, world'\n",
    "\n",
    "\n",
    "f1 = Foo.Instance()\n",
    "f2 = Foo.Instance()\n",
    "print f1 is f2\n",
    "f1.hello()"
   ]
  },
  {
   "cell_type": "markdown",
   "metadata": {},
   "source": [
    "## 2. 重载`__new__`\n",
    "\n",
    "参考:\n",
    "- https://stackoverflow.com/questions/31875/is-there-a-simple-elegant-way-to-define-singletons"
   ]
  },
  {
   "cell_type": "code",
   "execution_count": 1,
   "metadata": {},
   "outputs": [
    {
     "name": "stdout",
     "output_type": "stream",
     "text": [
      "True\nbeijing 110\nbeijing 110\n"
     ]
    }
   ],
   "source": [
    "class TsinghuaUniversity(object):\n",
    "    _instance = None\n",
    "    def __new__(cls, pos, age):\n",
    "        if cls._instance is None:\n",
    "            cls._instance = \\\n",
    "                super(TsinghuaUniversity, cls).__new__(cls)\n",
    "            cls._instance.pos = pos\n",
    "            cls._instance.age = age\n",
    "        return cls._instance\n",
    "    \n",
    "    def __str__(self):\n",
    "        return 'Tsinghua University'\n",
    "\n",
    "\n",
    "tsinghua1 = TsinghuaUniversity('beijing', 110)\n",
    "tsinghua2 = TsinghuaUniversity('tianjin', 120)\n",
    "\n",
    "print tsinghua1 is tsinghua2\n",
    "print tsinghua1.pos, tsinghua1.age\n",
    "print tsinghua2.pos, tsinghua2.age"
   ]
  },
  {
   "cell_type": "markdown",
   "metadata": {},
   "source": [
    "## 3. 使用内部类\n",
    "\n",
    "参考:\n",
    "- http://python-3-patterns-idioms-test.readthedocs.io/en/latest/Singleton.html\n",
    "\n",
    "This approach doesn’t restrict you to creating only one object. This is also a technique to create a limited pool of objects."
   ]
  },
  {
   "cell_type": "code",
   "execution_count": 31,
   "metadata": {},
   "outputs": [
    {
     "name": "stdout",
     "output_type": "stream",
     "text": [
      "dog\nI am the only one\ncat\nI am the only one\nFalse\nTrue\n"
     ]
    }
   ],
   "source": [
    "class Foo(object):\n",
    "    class __singleton(object):\n",
    "        def __init__(self, name):\n",
    "            self.name = name\n",
    "        \n",
    "        def hello(self):\n",
    "            return 'I am the only one'\n",
    "        \n",
    "        def __str__(self):\n",
    "            return 'Foo name=%s' % self.name\n",
    "\n",
    "    _instance = None\n",
    "    \n",
    "    def __init__(self, name):\n",
    "        if Foo._instance is None:\n",
    "            Foo._instance = Foo.__singleton(name)\n",
    "        else:\n",
    "            Foo._instance.name = name\n",
    "    \n",
    "    def __getattr__(self, name):\n",
    "        return getattr(self._instance, name)\n",
    "\n",
    "\n",
    "f1 = Foo('dog')\n",
    "print f1.name\n",
    "print f1.hello()\n",
    "\n",
    "f2 = Foo('cat')\n",
    "print f2.name\n",
    "print f2.hello()\n",
    "\n",
    "print f1 is f2\n",
    "print f1._instance is f2._instance"
   ]
  },
  {
   "cell_type": "markdown",
   "metadata": {},
   "source": [
    "## 4. 使用`Borg`\n",
    "\n",
    "参考: \n",
    "- http://python-3-patterns-idioms-test.readthedocs.io/en/latest/Singleton.html\n",
    "\n",
    "不是真正意义上的单体, 而是让所有的实例共享状态"
   ]
  },
  {
   "cell_type": "code",
   "execution_count": 36,
   "metadata": {},
   "outputs": [
    {
     "name": "stdout",
     "output_type": "stream",
     "text": [
      "4376557648\n4375656016\nbbb\nbbb\n"
     ]
    }
   ],
   "source": [
    "class Borg(object):\n",
    "    _shared_state = {}\n",
    "    \n",
    "    @classmethod\n",
    "    def singletonize(cls, obj):\n",
    "        obj.__dict__ = cls._shared_state\n",
    "\n",
    "\n",
    "class Foo(object):\n",
    "    def __init__(self, name):\n",
    "        Borg.singletonize(self)\n",
    "        self.name = name\n",
    "    \n",
    "    def __str__(self):\n",
    "        return 'Foo name=%s' % self.name\n",
    "\n",
    "\n",
    "f1 = Foo('aaa')\n",
    "f2 = Foo('bbb')\n",
    "\n",
    "print id(f1)\n",
    "print id(f2)\n",
    "\n",
    "print f1.name\n",
    "print f2.name"
   ]
  },
  {
   "cell_type": "code",
   "execution_count": null,
   "metadata": {},
   "outputs": [],
   "source": [
    ""
   ]
  }
 ],
 "metadata": {},
 "nbformat": 4,
 "nbformat_minor": 0
}