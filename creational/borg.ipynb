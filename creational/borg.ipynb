{
 "cells": [
  {
   "cell_type": "markdown",
   "metadata": {
    "collapsed": true
   },
   "source": [
    "# Borg(Monostate pattern)\n",
    "\n",
    "[原文链接](https://github.com/faif/python-patterns/blob/master/creational/borg.py)\n",
    "\n",
    "The Borg pattern (also known as the Monostate pattern) is a way to\n",
    "implement singleton behavior, but instead of having only one instance\n",
    "of a class, there are multiple instances that share the same state. In\n",
    "other words, **the focus is on sharing state instead of sharing instance\n",
    "identity**. Sharing state is useful in applications like managing database connections."
   ]
  },
  {
   "cell_type": "code",
   "execution_count": 2,
   "metadata": {},
   "outputs": [],
   "source": [
    "class Borg(object):\n",
    "    __shared_state = {}\n",
    "    \n",
    "    def __init__(self):\n",
    "        self.__dict__ = self.__shared_state\n",
    "        self.state = 'Init'\n",
    "    \n",
    "    def __str__(self):\n",
    "        return self.state\n",
    "    \n",
    "\n",
    "class YourBorg(Borg):\n",
    "    pass"
   ]
  },
  {
   "cell_type": "code",
   "execution_count": 7,
   "metadata": {},
   "outputs": [
    {
     "name": "stdout",
     "output_type": "stream",
     "text": [
      "rm1:  Init\nrm2:  Init\nrm3:  Init\n\n\nrm1:  Idle\nrm2:  Idle\nrm3:  Idle\n\n\nrm1:  Running\nrm2:  Running\nrm3:  Running\n"
     ]
    }
   ],
   "source": [
    "rm1 = Borg()\n",
    "rm2 = Borg()\n",
    "rm3 = YourBorg()\n",
    "\n",
    "print 'rm1: ', rm1.state\n",
    "print 'rm2: ', rm2.state\n",
    "print 'rm3: ', rm3.state\n",
    "print '\\n'\n",
    "\n",
    "rm1.state = 'Idle'\n",
    "\n",
    "print 'rm1: ', rm1.state\n",
    "print 'rm2: ', rm2.state\n",
    "print 'rm3: ', rm3.state\n",
    "print '\\n'\n",
    "\n",
    "rm2.state = 'Running'\n",
    "\n",
    "print 'rm1: ', rm1.state\n",
    "print 'rm2: ', rm2.state\n",
    "print 'rm3: ', rm3.state"
   ]
  }
 ],
 "metadata": {
  "kernelspec": {
   "display_name": "Python 2",
   "language": "python",
   "name": "python2"
  },
  "language_info": {
   "codemirror_mode": {
    "name": "ipython",
    "version": 2.0
   },
   "file_extension": ".py",
   "mimetype": "text/x-python",
   "name": "python",
   "nbconvert_exporter": "python",
   "pygments_lexer": "ipython2",
   "version": "2.7.6"
  }
 },
 "nbformat": 4,
 "nbformat_minor": 0
}