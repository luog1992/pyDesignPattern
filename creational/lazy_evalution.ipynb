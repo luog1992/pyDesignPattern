{
 "cells": [
  {
   "cell_type": "markdown",
   "metadata": {
    "collapsed": true
   },
   "source": [
    "# Lazy Evalution\n",
    "\n",
    "- 参考:\n",
    "\t* https://github.com/faif/python-patterns/blob/master/creational/lazy_evaluation.py"
   ]
  },
  {
   "cell_type": "code",
   "execution_count": 1,
   "metadata": {},
   "outputs": [],
   "source": [
    "import functools"
   ]
  },
  {
   "cell_type": "code",
   "execution_count": 25,
   "metadata": {
    "collapsed": false
   },
   "outputs": [
    {
     "name": "stdout",
     "output_type": "stream",
     "text": [
      "{'age': 11, 'name': 'Alice'} \n\n.... lazy_property1:  gender\nF\n.... lazy_property2:  weight\n100\n====================\n{'gender': 'F', 'age': 11, 'name': 'Alice', '_lazy__weight': 100} \n\nF\n100\n"
     ]
    }
   ],
   "source": [
    "class lazy_property1(object):\n",
    "    def __init__(self, fn):\n",
    "        self.fn = fn\n",
    "        functools.update_wrapper(self, fn)\n",
    "    \n",
    "    def __get__(self, instance, owner):\n",
    "        if instance is None:\n",
    "            return self\n",
    "        val = self.fn(instance)\n",
    "        print '.... lazy_property1: ', self.fn.__name__\n",
    "        instance.__dict__[self.fn.__name__] = val\n",
    "        return val\n",
    "\n",
    "\n",
    "def lazy_property2(fn):\n",
    "    attr = '_lazy__' + fn.__name__\n",
    "    \n",
    "    @property\n",
    "    def _lazy_property(self):\n",
    "        if not hasattr(self, attr):\n",
    "            print '.... lazy_property2: ', fn.__name__\n",
    "            setattr(self, attr, fn(self))\n",
    "        return getattr(self, attr)\n",
    "    return _lazy_property\n",
    "\n",
    "\n",
    "class Person(object):\n",
    "    def __init__(self, name, age):\n",
    "        self.name = name\n",
    "        self.age = age\n",
    "    \n",
    "    @lazy_property1\n",
    "    def gender(self):\n",
    "        return ['M', 'F'][self.age % 2]\n",
    "    \n",
    "    @lazy_property2\n",
    "    def weight(self):\n",
    "        return [100, 130][self.gender != 'F']\n",
    "\n",
    "\n",
    "p = Person('Alice', 11)\n",
    "\n",
    "print p.__dict__, '\\n'\n",
    "print p.gender\n",
    "print p.weight\n",
    "print '=' * 20\n",
    "\n",
    "print p.__dict__, '\\n'\n",
    "print p.gender\n",
    "print p.weight"
   ]
  },
  {
   "cell_type": "code",
   "execution_count": null,
   "metadata": {},
   "outputs": [],
   "source": [
    ""
   ]
  }
 ],
 "metadata": {
  "kernelspec": {
   "display_name": "Python 2",
   "language": "python",
   "name": "python2"
  },
  "language_info": {
   "codemirror_mode": {
    "name": "ipython",
    "version": 2.0
   },
   "file_extension": ".py",
   "mimetype": "text/x-python",
   "name": "python",
   "nbconvert_exporter": "python",
   "pygments_lexer": "ipython2",
   "version": "2.7.6"
  }
 },
 "nbformat": 4,
 "nbformat_minor": 0
}