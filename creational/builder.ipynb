{
 "cells": [
  {
   "cell_type": "markdown",
   "metadata": {},
   "source": [
    "# Builder\n",
    "\n",
    "- 参考:\n",
    "\t- https://github.com/faif/python-patterns/blob/master/creational/builder.py\n",
    "\t- http://design-patterns.readthedocs.io/zh_CN/latest/creational_patterns/builder.html\n",
    "\n",
    "- 建造者模式包含如下角色:\n",
    "\t* Builder：抽象建造者\n",
    "\t* ConcreteBuilder：具体建造者\n",
    "\t* Director：指挥者\n",
    "\t* Product：产品角色"
   ]
  },
  {
   "cell_type": "code",
   "execution_count": 7,
   "metadata": {},
   "outputs": [],
   "source": [
    "# Director\n",
    "class Director(object):\n",
    "    \n",
    "    def __init__(self):\n",
    "        self.builder = None\n",
    "    \n",
    "    def construct_building(self):\n",
    "        self.builder.new_building()\n",
    "        self.builder.build_floor()\n",
    "        self.builder.build_size()\n",
    "    \n",
    "    def get_building(self):\n",
    "        return self.builder.building\n",
    "\n",
    "\n",
    "# Abstract builder\n",
    "class Builder(object):\n",
    "    \"\"\"Abstract builder\"\"\"\n",
    "    \n",
    "    def __init__(self):\n",
    "        self.building = None\n",
    "    \n",
    "    def new_building(self):\n",
    "        self.building = Building()\n",
    "    \n",
    "    def build_floor(self):\n",
    "        raise NotImplemented\n",
    "    \n",
    "    def build_size(self):\n",
    "        raise NotImplemented\n",
    "\n",
    "\n",
    "# Concrete Builder\n",
    "class BuilderHouse(Builder):\n",
    "    \n",
    "    def build_floor(self):\n",
    "        self.building.floor = 'One'\n",
    "    \n",
    "    def build_size(self):\n",
    "        self.building.size = 'Big'\n",
    "\n",
    "\n",
    "class BuilderFlat(Builder):\n",
    "    \n",
    "    def build_floor(self):\n",
    "        self.building.floor = 'More than one'\n",
    "        \n",
    "    def build_size(self):\n",
    "        self.building.size = 'Small'\n",
    "        \n",
    "# Product\n",
    "class Building(object):\n",
    "    \n",
    "    def __init__(self):\n",
    "        self.floor = None\n",
    "        self.size = None\n",
    "    \n",
    "    def __repr__(self):\n",
    "        return 'Floor: %s; Size: %s' % (self.floor, self.size)"
   ]
  },
  {
   "cell_type": "code",
   "execution_count": 8,
   "metadata": {},
   "outputs": [
    {
     "name": "stdout",
     "output_type": "stream",
     "text": [
      "Floor: One; Size: Big\n"
     ]
    }
   ],
   "source": [
    "director = Director()\n",
    "director.builder = BuilderHouse()\n",
    "director.construct_building()\n",
    "building = director.get_building()\n",
    "print building"
   ]
  },
  {
   "cell_type": "code",
   "execution_count": 9,
   "metadata": {},
   "outputs": [
    {
     "name": "stdout",
     "output_type": "stream",
     "text": [
      "Floor: More than one; Size: Small\n"
     ]
    }
   ],
   "source": [
    "director = Director()\n",
    "director.builder = BuilderFlat()\n",
    "director.construct_building()\n",
    "building = director.get_building()\n",
    "print building"
   ]
  }
 ],
 "metadata": {},
 "nbformat": 4,
 "nbformat_minor": 0
}